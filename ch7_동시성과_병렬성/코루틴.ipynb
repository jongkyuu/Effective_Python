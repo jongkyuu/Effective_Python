{
 "cells": [
  {
   "cell_type": "markdown",
   "source": [
    "# 코루틴"
   ],
   "metadata": {}
  },
  {
   "cell_type": "markdown",
   "source": [
    "## 코루틴 사용하기\r\n",
    "\r\n",
    " - 다음과 같이 calc 함수 안에서 add 함수를 호출했을 때 add 함수가 끝나면 다시 calc 함수로 돌아옵니다.\r\n",
    " - 특히 add 함수가 끝나면 이 함수에 들어있던 변수와 계산식은 모두 사라집니다."
   ],
   "metadata": {}
  },
  {
   "cell_type": "code",
   "execution_count": 1,
   "source": [
    "def add(a, b):\r\n",
    "    c = a + b    # add 함수가 끝나면 변수와 계산식은 사라짐\r\n",
    "    print(c)\r\n",
    "    print('add 함수')\r\n",
    " \r\n",
    "def calc():\r\n",
    "    add(1, 2)    # add 함수가 끝나면 다시 calc 함수로 돌아옴\r\n",
    "    print('calc 함수')\r\n",
    " \r\n",
    "calc()"
   ],
   "outputs": [
    {
     "output_type": "stream",
     "name": "stdout",
     "text": [
      "3\n",
      "add 함수\n",
      "calc 함수\n"
     ]
    }
   ],
   "metadata": {}
  },
  {
   "cell_type": "markdown",
   "source": [
    "![](./image/coroutine_1.jpg)\r\n",
    "- 이 소스코드에서 calc가 메인 루틴(main routine)이면 add는 calc의 서브 루틴(sub routine)입니다. \r\n",
    "- 메인 루틴에서 서브 루틴을 호출하면 서브 루틴의 코드를 실행 한 뒤 다시 메인 루틴으로 돌아옵니다.\r\n",
    "  - 서브 루틴이 끝나면 서브 루틴의 내용은 모두 사라집니다. 즉, 서브 루틴은 메인 루틴에 종속된 관계입니다.\r\n",
    "\r\n",
    "<br>\r\n",
    "\r\n",
    "- 코루틴( coroutine)은 cooperative routine을 의미하는데 서로 협력하는 루틴이라는 뜻입니다.\r\n",
    "- 즉 메인 루틴과 서브 루틴처럼 종속된 관계가 아니라 서로 대등한 관계이며 특정 시점에 상대방의 코드를 실행합니다."
   ],
   "metadata": {}
  },
  {
   "cell_type": "markdown",
   "source": [
    "![](./image/coroutine_2.jpg)\r\n",
    "\r\n",
    "- 코루틴은 함수가 종료되지 않은 상태에서 메인 루틴의 코드를 실행한 뒤 다시 돌아와서 코루틴의 코드를 실행합니다. \r\n",
    "- 따라서 코루틴이 종료되지 않았으므로 코루틴의 내용도 계속 유지됩니다.\r\n",
    "- 일반 함수를 호출하면 코드를 한 번만 실행할 수 있지만, 코루틴은 코드를 여러 번 실행할 수 있습니다. \r\n",
    "- 참고로 함수의 코드를 실행하는 지점을 진입점(entry point)이라고 하는데, 코루틴은 진입점이 여러개인 함수입니다."
   ],
   "metadata": {}
  },
  {
   "cell_type": "markdown",
   "source": [],
   "metadata": {}
  },
  {
   "cell_type": "markdown",
   "source": [
    "### 코루틴에 값 보내기\r\n",
    "\r\n",
    "- 코루틴은 제너레이터의 특별한 형태입니다. 제너레이터는 yield로 값을 발생시켰지만 코루틴은 yield로 값을 받아올 수 있습니다. \r\n",
    "- 다음과 같이 코루틴에 값을 보내면서 코드를 실행할 때는 send 메서드를 사용합니다. \r\n",
    "- 그리고 send 메서드가 보낸 값을 받아오려면 (yield) 형식으로 yield를 괄호로 묶어준 뒤 변수에 저장합니다.\r\n",
    "  - 코루틴객체.send(값)\r\n",
    "  - 변수 = (yield)"
   ],
   "metadata": {}
  },
  {
   "cell_type": "code",
   "execution_count": 3,
   "source": [
    "def number_coroutine():\r\n",
    "    while True:        # 코루틴을 계속 유지하기 위해 무한 루프 사용\r\n",
    "        x = (yield)    # 코루틴 바깥에서 값을 받아옴, yield를 괄호로 묶어야 함\r\n",
    "        print(x)\r\n",
    " \r\n",
    "co = number_coroutine()\r\n",
    "next(co)      # 코루틴 안의 yield까지 코드 실행(최초 실행)\r\n",
    " \r\n",
    "co.send(1)    # 코루틴에 숫자 1을 보냄\r\n",
    "co.send(2)    # 코루틴에 숫자 2을 보냄\r\n",
    "co.send(3)    # 코루틴에 숫자 3을 보냄"
   ],
   "outputs": [
    {
     "output_type": "stream",
     "name": "stdout",
     "text": [
      "1\n",
      "2\n",
      "3\n"
     ]
    }
   ],
   "metadata": {}
  },
  {
   "cell_type": "markdown",
   "source": [],
   "metadata": {}
  }
 ],
 "metadata": {
  "orig_nbformat": 4,
  "language_info": {
   "name": "python",
   "version": "3.8.5",
   "mimetype": "text/x-python",
   "codemirror_mode": {
    "name": "ipython",
    "version": 3
   },
   "pygments_lexer": "ipython3",
   "nbconvert_exporter": "python",
   "file_extension": ".py"
  },
  "kernelspec": {
   "name": "python3",
   "display_name": "Python 3.8.5 64-bit ('quant': conda)"
  },
  "interpreter": {
   "hash": "a887fb40a00db2b27724eb353e8332a4f798b02a3e22adbc742cdcf6ae22175c"
  }
 },
 "nbformat": 4,
 "nbformat_minor": 2
}