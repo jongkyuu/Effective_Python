{
 "cells": [
  {
   "cell_type": "code",
   "execution_count": null,
   "source": [],
   "outputs": [],
   "metadata": {}
  },
  {
   "cell_type": "code",
   "execution_count": null,
   "source": [
    "\r\n"
   ],
   "outputs": [],
   "metadata": {}
  },
  {
   "cell_type": "markdown",
   "source": [
    "파이썬 클래스에서 __init__ 메소드는 클래스 오브젝트에 메모리를 할당하지 않습니다.\r\n",
    "__init__은 클래스 인스턴스를 생성하지 않습니다. 즉, __init__은 생성자 메소드로 불리기에 애매하다는 점입니다.\r\n",
    "즉, __init__ 메소드는 클래스 인스터스 형태인 객체(Object)가 생성(Created/Instantiated)되어 초기화(Initialized)되는 즉시 호출(Called)되기는 합니다\r\n",
    "하지만 객체에 메모리를 할당하지 않는 특수한 메소드입니다.\r\n",
    "\r\n",
    "객체에 메모리를 할당(Allocate)하는것은 바로 __new__ 메소드입니다. \r\n",
    "파이썬에서 객체를 생성해보면 __init__이 실행되기 전에 항상 __new__가 먼저 실행되며, 이 때 객체에 메모리가 할당됩니다."
   ],
   "metadata": {}
  },
  {
   "cell_type": "code",
   "execution_count": 7,
   "source": [
    "class Point():\r\n",
    "    def __new__(cls,*args,**kwargs):\r\n",
    "        print(\"From new\")\r\n",
    "        print(cls)\r\n",
    "        print(args)\r\n",
    "        print(kwargs)\r\n",
    "        # create our object and return it\r\n",
    "        obj = super().__new__(cls)\r\n",
    "        print(obj)\r\n",
    "        return obj\r\n",
    "        \r\n",
    "    def __init__(self, x = 0, y = 0):\r\n",
    "        print(\"From init\")\r\n",
    "        self.x = x\r\n",
    "        self.y = y"
   ],
   "outputs": [],
   "metadata": {}
  },
  {
   "cell_type": "code",
   "execution_count": 8,
   "source": [
    "p2 = Point(3,4)"
   ],
   "outputs": [
    {
     "output_type": "stream",
     "name": "stdout",
     "text": [
      "From new\n",
      "<class '__main__.Point'>\n",
      "(3, 4)\n",
      "{}\n",
      "<__main__.Point object at 0x000002AD9C72F700>\n",
      "From init\n"
     ]
    }
   ],
   "metadata": {}
  },
  {
   "cell_type": "markdown",
   "source": [
    "위 코드를 보시면 아시겠지만, __new__메소드는\r\n",
    "\r\n",
    "__init__보다 먼저 실행되며\r\n",
    "클래스 자기 자신(cls)을 숨겨진 파라미터로 받으며\r\n",
    "반드시 object를 return함을 알 수 있습니다. \r\n",
    "\r\n",
    "예시 코드에서는 Point 클래스를 포함해 모든 클래스의 부모 클래스인 Object 클래스의 객체(object)를 반환합니다. \r\n",
    "즉, object를 “생성”해 반환한다는 점에서 __new__ 메소드가 오히려 더 생성자 메소드에 가까워 보일 수도 있습니다."
   ],
   "metadata": {}
  },
  {
   "cell_type": "markdown",
   "source": [
    "객체의 Allocator/Instantiator는 __new__\r\n",
    "객체의 Constructor/Initializer는 __init__\r\n",
    "\r\n",
    "\r\n",
    "하지만 우리가 아는 “생성자”는 사실 객체를 “생성”하지 않습니다.\r\n",
    " 다른 객체 지향 언어들에서는 메모리에 주소를 할당하는 방식으로 클래스 인스턴스를 생성하는 함수를 “생성자”라고 부르지 않습니다. \r\n",
    " C++에서는 이를 배분자(Allocator), Java에서는 클래스 인스턴스를 메모리에 할당하는 Static Factory Method라고 부릅니다.\r\n",
    "\r\n",
    "즉, __new__ 메소드는 객체를 생성해 반환하는데 이를 생성자로 부르기에는 적절치 않다는 것입니다. \r\n",
    "__new__ 메소드는 차라리 인스턴시에이터(Instantiator)라고 부르는 것이 더 적절해 보입니다.\r\n",
    "\r\n",
    "그렇다면, “생성자”는 어떤 역할을 하는 함수를 말하는 것일까요?\r\n",
    "__init__의 기능이 바로 생성자 역할입니다.\r\n",
    "\r\n",
    "즉, __init__은 결국 생성자(Constructor)가 맞지만, 이 “생성(Construct)”은 우리가 알고 있는 “객체 생성” 기능과는 다르다는 것을 말하는 것입니다.\r\n",
    " “생성”이란 __new__ 메소드로 만든(Instantiate) 인스턴스를 사용자가 원하는 대로 사용하도록 커스토마이징(Customizing/Initiating)함을 말합니다. \r\n",
    " 예를 들어 self.x=x, self.y=y 와 같이 클래스 인스턴스에 프로퍼티(Property)를 부여하는 등 인스턴스 사용을 위한 초기 세팅을 주는 것이 바로 생성(Construct 또는 Initiate)인 것입니다.\r\n",
    "\r\n",
    "(사실 생성자를 다른 객체 지향 언어에서처럼 매우 엄밀하게 정의한다면 파이썬의 __init__과 __new__ 둘 다 생성자에 해당되지 않습니다. \r\n",
    "파이썬에는 C++와 Java에서 정의하는 Constructor가 존재하지 않으며, 다만 유사한 작업을 수행한다는 차원에서 Constructor Expression이라고 표현할 수도 있습니다.)\r\n",
    "\r\n",
    "\r\n",
    "\r\n",
    " __init__과 __new__ 메소드의 본래 목적에는 별 관심이 없습니다. \r\n",
    " 따라서 보통 __init__으로 열심히 인스턴스를 수정하기만 하면 되고, \r\n",
    " __new__는 그냥 자동으로 실행되도록 냅둡니다."
   ],
   "metadata": {}
  },
  {
   "cell_type": "code",
   "execution_count": null,
   "source": [],
   "outputs": [],
   "metadata": {}
  },
  {
   "cell_type": "markdown",
   "source": [
    "생성자는 정적 메서드(static method)이고 첫 번째 매개변수는 cls , 즉 클래스 객체를 받아서 처리합니다. 생성자는 아무 것도 하지 않는 인스턴스 객체를 생성만 합니다. 인스턴스 내의 속성은 초기화에서 처리하기를 권고합니다. 하지만 특별한 처리가 필요할 경우 추가로 생성자를 재정의해서 사용해야합니다.\r\n",
    "\r\n",
    "생성자는 new라는 이름의 스폐셜 메서드입니다. \" __new__  \"\r\n",
    "\r\n",
    "해당 메서드의 첫 번째 인자는 self 가 아닌 cls 입니다. 이럴 경우 생성자에서 return 값이 무엇이느냐에 따라 새로운 인스턴스가 만들어질 수 있고, 기존 클래스의 레퍼런스를 return 할 수 있습니다.(=새 인스턴스 안 만들어짐)\r\n",
    "\r\n",
    "\r\n",
    "\r\n",
    "출처: https://sikaleo.tistory.com/115 [SIKALEO]"
   ],
   "metadata": {}
  },
  {
   "cell_type": "markdown",
   "source": [
    "클래스 생성자로 인스턴스를 만들었는데 이는 self 객체를 이용해서 만드는 것과는 좀 다르다.  self 객체를 사용하는 초기화  __init__  는 좀 더 하위의 인스턴스를 의미합니다.\r\n",
    "cls 로 만든 건 클래스 자체로 아무것도 하지 않는 생성자를 만듭니다. 조금 더 커스터마이징을 많이할 수 있는? 그러한 객체를 만들기 위해 사용하는 것 같습니다.\r\n",
    "\r\n",
    "\r\n",
    "출처: https://sikaleo.tistory.com/115 [SIKALEO]\r\n",
    "출처: https://sikaleo.tistory.com/115 [SIKALEO]"
   ],
   "metadata": {}
  },
  {
   "cell_type": "code",
   "execution_count": null,
   "source": [],
   "outputs": [],
   "metadata": {}
  },
  {
   "cell_type": "markdown",
   "source": [
    "\r\n"
   ],
   "metadata": {}
  },
  {
   "cell_type": "markdown",
   "source": [
    "- 파이썬에서 객체를 생성해보면 __init__이 실행되기 전에 항상 __new__가 먼저 실행되며, 이 때 객체에 메모리가 할당됩니다.\r\n",
    "- __init__ 메소드는 클래스 인스터스 형태인 객체(Object)가 생성(Created/Instantiated)되어 초기화(Initialized)되는 즉시 호출(Called)\r\n"
   ],
   "metadata": {}
  },
  {
   "cell_type": "markdown",
   "source": [
    "- c++ 에는 기본 생성자 말고도 소멸자, 복사생성자, 복사할당자, 이동생성자, 이동할당자가 존재\r\n",
    "-  메모리에 주소를 할당하는 방식으로 클래스 인스턴스를 생성하는 함수를 생성자라고 부르지 않음.  C++에는 Allocator, java에서는 Static Factory Method\r\n",
    "-  __new__ 메소드는 객체를 생성해 반환하는데 이를 생성자로 부르기에는 적절치 않다는 것\r\n",
    "-  _init__은 결국 생성자(Constructor)가 맞지만, 이 “생성(Construct)”은 우리가 알고 있는 “객체 생성” 기능과는 다르다는 것을 말하는 것입니다. \r\n",
    "-  “생성”이란 __new__ 메소드로 만든(Instantiate) 인스턴스를 사용자가 원하는 대로 사용하도록 커스토마이징(Customizing/Initiating)함을 말합니다. \r\n",
    "   -  예를 들어 self.x=x, self.y=y 와 같이 클래스 인스턴스에 프로퍼티(Property)를 부여하는 등 인스턴스 사용을 위한 초기 세팅을 주는 것이 바로 생성(Construct 또는 Initiate)인 것입니다."
   ],
   "metadata": {}
  },
  {
   "cell_type": "markdown",
   "source": [],
   "metadata": {}
  },
  {
   "cell_type": "code",
   "execution_count": 2,
   "source": [
    "class Foo(object):\r\n",
    "    def __new__(cls, *args, **kwargs):\r\n",
    "        print(\"__new__ is called\\n\")\r\n",
    "        instance = super().__new__(cls)\r\n",
    "        return instance\r\n",
    "\r\n",
    "    def __init__(self):\r\n",
    "        print(\"__init__ is called\\n\")\r\n",
    "\r\n",
    "\r\n",
    "s = Foo()\r\n",
    "print(s)"
   ],
   "outputs": [
    {
     "output_type": "stream",
     "name": "stdout",
     "text": [
      "__new__ is called\n",
      "\n",
      "__init__ is called\n",
      "\n",
      "<__main__.Foo object at 0x00000256132C2370>\n"
     ]
    }
   ],
   "metadata": {}
  },
  {
   "cell_type": "code",
   "execution_count": 3,
   "source": [
    "Foo()"
   ],
   "outputs": [
    {
     "output_type": "stream",
     "name": "stdout",
     "text": [
      "__new__ is called\n",
      "\n",
      "__init__ is called\n",
      "\n"
     ]
    },
    {
     "output_type": "execute_result",
     "data": {
      "text/plain": [
       "<__main__.Foo at 0x256132c29d0>"
      ]
     },
     "metadata": {},
     "execution_count": 3
    }
   ],
   "metadata": {}
  },
  {
   "cell_type": "markdown",
   "source": [
    "### 사용 예시\r\n",
    "\r\n",
    "- “점”을 의미하는 위 Point 클래스의 인스턴스 4개를 사용해 “사각형”을 의미하는 RectPoint 클래스 만들기\r\n",
    "- 4개의 인스턴스는 사각형 4개의 꼭지점을 의미\r\n",
    "- 사각형은 꼭지점이 4개이므로 5번째 인스턴스를 가질 수 없도록 제약을 걸어야 함(방어적 프로그래밍)"
   ],
   "metadata": {}
  },
  {
   "cell_type": "code",
   "execution_count": 54,
   "source": [
    "class Point():\r\n",
    "    def __new__(cls,*args,**kwargs):\r\n",
    "        #print(\"From new\")\r\n",
    "        #print(cls)\r\n",
    "        #print(args)\r\n",
    "        #print(kwargs)\r\n",
    "        # create our object and return it\r\n",
    "        obj = super().__new__(cls)\r\n",
    "        return obj\r\n",
    "    def __init__(self, x = 0, y = 0):\r\n",
    "        #print(\"From init\")\r\n",
    "        self.x = x\r\n",
    "        self.y = y\r\n",
    "\r\n",
    "class RectPoint(Point):\r\n",
    "    MAX_Inst = 4\r\n",
    "    Inst_created = 0\r\n",
    "    def __new__(cls,*args,**kwargs):\r\n",
    "        if (cls.Inst_created >= cls.MAX_Inst):\r\n",
    "            raise ValueError(\"Cannot create more objects\")\r\n",
    "        cls.Inst_created += 1\r\n",
    "        return super().__new__(cls)\r\n",
    "    \r\n",
    "    def test(self):\r\n",
    "        Inst_created = 10\r\n",
    "        self.Inst_created = 20\r\n",
    "        print(self.Inst_created)\r\n",
    "        print(Inst_created)\r\n"
   ],
   "outputs": [],
   "metadata": {}
  },
  {
   "cell_type": "code",
   "execution_count": null,
   "source": [],
   "outputs": [],
   "metadata": {}
  },
  {
   "cell_type": "code",
   "execution_count": 50,
   "source": [
    "p1 = RectPoint(0,0)\r\n",
    "p1.test()\r\n"
   ],
   "outputs": [
    {
     "output_type": "stream",
     "name": "stdout",
     "text": [
      "20\n",
      "10\n"
     ]
    }
   ],
   "metadata": {}
  },
  {
   "cell_type": "code",
   "execution_count": 51,
   "source": [
    "print(RectPoint.Inst_created)\r\n"
   ],
   "outputs": [
    {
     "output_type": "stream",
     "name": "stdout",
     "text": [
      "1\n"
     ]
    }
   ],
   "metadata": {}
  },
  {
   "cell_type": "code",
   "execution_count": 34,
   "source": [
    "p1.__dict__"
   ],
   "outputs": [
    {
     "output_type": "execute_result",
     "data": {
      "text/plain": [
       "{'x': 0, 'y': 0, 'Inst_created': 5}"
      ]
     },
     "metadata": {},
     "execution_count": 34
    }
   ],
   "metadata": {}
  },
  {
   "cell_type": "code",
   "execution_count": 35,
   "source": [
    "RectPoint.__dict__"
   ],
   "outputs": [
    {
     "output_type": "execute_result",
     "data": {
      "text/plain": [
       "mappingproxy({'__module__': '__main__',\n",
       "              'MAX_Inst': 4,\n",
       "              'Inst_created': 1,\n",
       "              '__new__': <staticmethod at 0x25613f50ac0>,\n",
       "              'test': <function __main__.RectPoint.test(self, num)>,\n",
       "              '__doc__': None})"
      ]
     },
     "metadata": {},
     "execution_count": 35
    }
   ],
   "metadata": {}
  },
  {
   "cell_type": "code",
   "execution_count": 21,
   "source": [
    "p1 = RectPoint(0,0)\r\n",
    "p2 = RectPoint(2,0)\r\n",
    "p3 = RectPoint(0,2)\r\n",
    "p4 = RectPoint(2,2)"
   ],
   "outputs": [],
   "metadata": {}
  },
  {
   "cell_type": "code",
   "execution_count": 6,
   "source": [
    "p5 = RectPoint(3,3)\r\n",
    "# 코드 결과를 보시면 5번째 점을 RectPoint 클래스로 만드려고 하면 밸류에러를 뱉게함으로써, 인스턴스를 잘못 생성하는 것을 미리 차단함을 볼 수 있습니다."
   ],
   "outputs": [
    {
     "output_type": "error",
     "ename": "ValueError",
     "evalue": "Cannot create more objects",
     "traceback": [
      "\u001b[1;31m---------------------------------------------------------------------------\u001b[0m",
      "\u001b[1;31mValueError\u001b[0m                                Traceback (most recent call last)",
      "\u001b[1;32m~\\AppData\\Local\\Temp/ipykernel_24292/718272907.py\u001b[0m in \u001b[0;36m<module>\u001b[1;34m\u001b[0m\n\u001b[1;32m----> 1\u001b[1;33m \u001b[0mp5\u001b[0m \u001b[1;33m=\u001b[0m \u001b[0mRectPoint\u001b[0m\u001b[1;33m(\u001b[0m\u001b[1;36m3\u001b[0m\u001b[1;33m,\u001b[0m\u001b[1;36m3\u001b[0m\u001b[1;33m)\u001b[0m\u001b[1;33m\u001b[0m\u001b[1;33m\u001b[0m\u001b[0m\n\u001b[0m\u001b[0;32m      2\u001b[0m \u001b[1;31m# 코드 결과를 보시면 5번째 점을 RectPoint 클래스로 만드려고 하면 밸류에러를 뱉게함으로써, 인스턴스를 잘못 생성하는 것을 미리 차단함을 볼 수 있습니다.\u001b[0m\u001b[1;33m\u001b[0m\u001b[1;33m\u001b[0m\u001b[1;33m\u001b[0m\u001b[0m\n",
      "\u001b[1;32m~\\AppData\\Local\\Temp/ipykernel_24292/1691029128.py\u001b[0m in \u001b[0;36m__new__\u001b[1;34m(cls, *args, **kwargs)\u001b[0m\n\u001b[0;32m     18\u001b[0m     \u001b[1;32mdef\u001b[0m \u001b[0m__new__\u001b[0m\u001b[1;33m(\u001b[0m\u001b[0mcls\u001b[0m\u001b[1;33m,\u001b[0m\u001b[1;33m*\u001b[0m\u001b[0margs\u001b[0m\u001b[1;33m,\u001b[0m\u001b[1;33m**\u001b[0m\u001b[0mkwargs\u001b[0m\u001b[1;33m)\u001b[0m\u001b[1;33m:\u001b[0m\u001b[1;33m\u001b[0m\u001b[1;33m\u001b[0m\u001b[0m\n\u001b[0;32m     19\u001b[0m         \u001b[1;32mif\u001b[0m \u001b[1;33m(\u001b[0m\u001b[0mcls\u001b[0m\u001b[1;33m.\u001b[0m\u001b[0mInst_created\u001b[0m \u001b[1;33m>=\u001b[0m \u001b[0mcls\u001b[0m\u001b[1;33m.\u001b[0m\u001b[0mMAX_Inst\u001b[0m\u001b[1;33m)\u001b[0m\u001b[1;33m:\u001b[0m\u001b[1;33m\u001b[0m\u001b[1;33m\u001b[0m\u001b[0m\n\u001b[1;32m---> 20\u001b[1;33m             \u001b[1;32mraise\u001b[0m \u001b[0mValueError\u001b[0m\u001b[1;33m(\u001b[0m\u001b[1;34m\"Cannot create more objects\"\u001b[0m\u001b[1;33m)\u001b[0m\u001b[1;33m\u001b[0m\u001b[1;33m\u001b[0m\u001b[0m\n\u001b[0m\u001b[0;32m     21\u001b[0m         \u001b[0mcls\u001b[0m\u001b[1;33m.\u001b[0m\u001b[0mInst_created\u001b[0m \u001b[1;33m+=\u001b[0m \u001b[1;36m1\u001b[0m\u001b[1;33m\u001b[0m\u001b[1;33m\u001b[0m\u001b[0m\n\u001b[0;32m     22\u001b[0m         \u001b[1;32mreturn\u001b[0m \u001b[0msuper\u001b[0m\u001b[1;33m(\u001b[0m\u001b[1;33m)\u001b[0m\u001b[1;33m.\u001b[0m\u001b[0m__new__\u001b[0m\u001b[1;33m(\u001b[0m\u001b[0mcls\u001b[0m\u001b[1;33m)\u001b[0m\u001b[1;33m\u001b[0m\u001b[1;33m\u001b[0m\u001b[0m\n",
      "\u001b[1;31mValueError\u001b[0m: Cannot create more objects"
     ]
    }
   ],
   "metadata": {}
  },
  {
   "cell_type": "markdown",
   "source": [
    "## 싱글턴 패턴 구현\r\n",
    "\r\n",
    "- 싱글턴(singleton) 패턴은 사용자가 여러 번 객체 생성을 하더라도 클래스로부터 오직 하나의 객체만 생성되도록 하는 디자인 패턴입니다. \r\n",
    "- 이러한 싱글턴 패턴은 오직 유일한 객체를 통해서만 어떤 리소스에 접근해야하는 제약이 있는 상황에서 유용하게 사용할 수 있습니다. \r\n",
    "- 클래스를 사용하는 입장에서는 실수로 여러 번 객체 생성을 시도하더라도 내부적으로는 오직 하나의 객체만 생성되고 사용됩니다."
   ],
   "metadata": {}
  },
  {
   "cell_type": "code",
   "execution_count": 55,
   "source": [
    "#유일한 객체가 생성되도록 해주는 싱글톤 패턴을 구현하기 위해서는 앞서 살펴봤던 __new__ 메서드를 재 정의해준 후 해당 메서드 내에서 이미 객체가 생성됐다면 객체를 생성해주지 않도록만 처리해주면 됩니다. \r\n",
    "# 객체의 생성 여부는 모든 클래스 객체의 속성 변수로 _instance를 추가한 후 해당 변수로 관리하도록 해주면 되겠습니다.\r\n",
    "\r\n",
    "class Singleton(object):\r\n",
    "    def __new__(cls, *args, **kwargs):\r\n",
    "        if not hasattr(cls, \"_instance\"):         # Foo 클래스 객체에 _instance 속성이 없다면\r\n",
    "            print(\"__new__ is called\\n\")\r\n",
    "            cls._instance = super().__new__(cls)  # Foo 클래스의 객체를 생성하고 Foo._instance로 바인딩\r\n",
    "        return cls._instance                      # Foo._instance를 리턴\r\n",
    "\r\n",
    "    def __init__(self, data):\r\n",
    "        cls = type(self)\r\n",
    "        if not hasattr(cls, \"_init\"):             # Foo 클래스 객체에 _init 속성이 없다면\r\n",
    "            print(\"__init__ is called\\n\")\r\n",
    "            self.data = data\r\n",
    "            cls._init = True"
   ],
   "outputs": [],
   "metadata": {}
  },
  {
   "cell_type": "code",
   "execution_count": 58,
   "source": [
    "s1 = Singleton(3)\r\n",
    "print(s1.data)\r\n",
    "print(id(s1))"
   ],
   "outputs": [
    {
     "output_type": "stream",
     "name": "stdout",
     "text": [
      "3\n",
      "2568710968224\n"
     ]
    }
   ],
   "metadata": {}
  },
  {
   "cell_type": "code",
   "execution_count": 59,
   "source": [
    "s2 = Singleton(4)\r\n",
    "print(s2.data)\r\n",
    "print(id(s2))\r\n"
   ],
   "outputs": [
    {
     "output_type": "stream",
     "name": "stdout",
     "text": [
      "3\n",
      "2568710968224\n"
     ]
    }
   ],
   "metadata": {}
  },
  {
   "cell_type": "code",
   "execution_count": null,
   "source": [],
   "outputs": [],
   "metadata": {}
  }
 ],
 "metadata": {
  "orig_nbformat": 4,
  "language_info": {
   "name": "python",
   "version": "3.8.11",
   "mimetype": "text/x-python",
   "codemirror_mode": {
    "name": "ipython",
    "version": 3
   },
   "pygments_lexer": "ipython3",
   "nbconvert_exporter": "python",
   "file_extension": ".py"
  },
  "kernelspec": {
   "name": "python3",
   "display_name": "Python 3.8.11 64-bit ('base': conda)"
  },
  "interpreter": {
   "hash": "9f1543dab12f68711edff4aaa40dc64b55bdb8a196ed66d96303cc511487faa6"
  }
 },
 "nbformat": 4,
 "nbformat_minor": 2
}