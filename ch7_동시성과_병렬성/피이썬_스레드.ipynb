{
 "cells": [
  {
   "cell_type": "markdown",
   "source": [
    "# 프로세스와 스레드\r\n",
    "- 운영체제에서 어떤 실행 프로그램이 실행된다는 것은 CPU, 메모리, SSD와 같은 컴퓨터 자원을 사용합니다. \r\n",
    "- 따라서 운영체체제는 프로그램들이 마음껏 실행될 수 있도록 전용 '놀이터'와 같은 공간을 제공해주는데 이를 프로세스라고 합니다. \r\n",
    "- 응용 프로그램의 코드는 이 놀이터에서 마음껏 놀 수 (실행 할 수) 있으며 외부 세계에 대해서 걱정할 필요가 없습니다. \r\n",
    "- 하지만 만약 어떤 코드가 자신에게 부여 받은 놀이터 공간를 벗어나 다른 영역으로 가려면 하면 운영체제에 의해 종료되어버립니다.\r\n",
    "\r\n",
    "- 놀이터에는 응응 프로그램이 놀 수 있습니다. \r\n",
    "- 운영체제 입장에서 놀이터에 있는 플레이어를 스레드라고 부릅니다. \r\n",
    "- 어떤 응용 프로그램은 한 번에 여러 가지 작업을 수행해야 하는 경우도 있습니다. \r\n",
    "- 이 경우 동일한 놀이터(프로세스)에 두 아이(스레드)가 있는데 놀이터에 있는 모든 장난감(컴퓨터 자원)은 공유한다고 생각하면 됩니다."
   ],
   "metadata": {}
  },
  {
   "cell_type": "markdown",
   "source": [
    "# 스레드란 ?\r\n",
    "- 운영체제는 컴퓨터를 전체적으로 관리하는 매니저 역할을 합니다. \r\n",
    "- 우리가 프로그램이라고 부르는 것들은 운영체제 위에서 동작합니다. \r\n",
    "- 프로그램이 메모리에 올라가서 실행 중인 것을 프로세스(process)라고 부릅니다. \r\n",
    "- 프로세스의 실행 단위를 스레드라고 합니다. \r\n",
    "- 프로세스는 최소 하나 이상의 스레드를 갖으며 경우에 따라 여러 스레드를 가질 수도 있습니다."
   ],
   "metadata": {}
  },
  {
   "cell_type": "markdown",
   "source": [
    "## threading 모듈 사용하기\r\n",
    "- 파이썬에서 스레드를 다루는 다양한 방법이 있습니다. \r\n",
    "- 파이썬 기본 모듈로는 thread와 threading 모듈이 있는데 보통 theading 모듈을 더 자주 사용합니다. \r\n",
    "- 이외에도 GUI 라이브러리인 PyQt의 QThread를 사용하기도 합니다. 이장에서는 threading 모듈을 사용해서 스레드를 생성해 보겠습니다."
   ],
   "metadata": {}
  },
  {
   "cell_type": "code",
   "execution_count": 2,
   "source": [
    "import threading\r\n",
    "import time\r\n",
    "\r\n",
    "\r\n",
    "class Worker(threading.Thread):\r\n",
    "    def __init__(self, name):\r\n",
    "        super().__init__()\r\n",
    "        self.name = name            # thread 이름 지정\r\n",
    "\r\n",
    "    def run(self):\r\n",
    "        print(\"sub thread start \", threading.currentThread().getName())\r\n",
    "        time.sleep(3)\r\n",
    "        print(\"sub thread end \", threading.currentThread().getName())\r\n",
    "\r\n",
    "\r\n",
    "print(\"main thread start\")\r\n",
    "for i in range(5):\r\n",
    "    name = \"thread {}\".format(i)\r\n",
    "    t = Worker(name)                # sub thread 생성\r\n",
    "    #t.daemon = True                # 주석 해제하면 데몬 스레드로 생성\r\n",
    "    t.start()                       # sub thread의 run 메서드를 호출\r\n",
    "\r\n",
    "print(\"main thread end\")"
   ],
   "outputs": [
    {
     "output_type": "stream",
     "name": "stdout",
     "text": [
      "main thread start\n",
      "sub thread start  thread 0\n",
      "sub thread start  thread 1\n",
      "sub thread start  thread 2\n",
      "sub thread start  thread 3\n",
      "sub thread start  thread 4\n",
      "main thread end\n",
      "sub thread end sub thread end  thread 1\n",
      " thread 0\n",
      "sub thread end sub thread end sub thread end  thread 3\n",
      " thread 2\n",
      " thread 4\n"
     ]
    }
   ],
   "metadata": {}
  },
  {
   "cell_type": "markdown",
   "source": [
    " - 메인 스레드가 5개의 서브 스레드를 생성하고 start 메서드를 호출하여 Worker 클래스에 정의한 run( ) 메서드를 호출합니다. \r\n",
    " - 메인 스레드와 5개의 서브 스레드는 운영체제의 스케줄러에 의해 스케줄링 되면서 실행됩니다. \r\n",
    " - 가장 먼저 메인 스레드가 끝나면서 'main thread end'를 출력합니다. \r\n",
    "-  서브 스레드들은 0, 1, 2, 3, 4 순으로 실행됐지만 종료 순서는 조금 다른 것을 확인할 수 있습니다. \r\n",
    "-  기본적으로 메인 스레드에서 서브 스레드를 생성하면 메인 스레드는 자신의 작업을 모두 마쳤더라도 서브 스레드의 작업이 종료될 때 까지 기다렸다가 서브 스레드의 작업이 모두 완료되면 종료됩니다."
   ],
   "metadata": {}
  },
  {
   "cell_type": "markdown",
   "source": [
    "## 데몬스레드\r\n",
    "- 데몬(daemon) 스레드는 메인 스레드가 종료될 때 자신의 실행 상태와 상관없이 종료되는 서브 스레드를 의미합니다\r\n",
    "- 앞서 threading 모듈을 사용해서 메인 스레드가 서브 스레드를 생성하는 경우 메인 스레드는 서브 스레드가 모두 종료될 때까지 기다렸다가 종료하게 됩니다. \r\n",
    "- 그런데 실제 프로그래밍을 하다보면 경우에 따라 메인 스레드가 종료되면 모두 서브스레드가 동작 여부에 상관없이 종료되어야 하는 경우가 많습니다. \r\n",
    "- 예를 들어 토렌토와 같은 파일 다운로드 프로그램에서 서브 스레드를 통해 파일을 동시에 다운로드 받고 있는데 사용자가 메인 프로그램을 종료하면 파일의 다운로드 완료 여부와 상관없이 프로그램이 종료되어야 할 것입니다. \r\n",
    "- 파이썬 threading 모듈에서 데몬 스레드의 생성은 daemon 속성을 True로 변경하면 됩니다."
   ],
   "metadata": {}
  },
  {
   "cell_type": "markdown",
   "source": [
    "## Fork와 Join\r\n",
    "- 이번에는 fork-join에 대해서 배우겠습니다. \r\n",
    "- 다음 그림처럼 메인 스레드가 서브 스레드를 생성하는 것을 fork 라고 합니다. \r\n",
    "- 두 개의 서브 스레드를 생성하는 경우 메인 스레드를 포함하여 총 3개의 스레드가 스케줄링 됩니다. \r\n",
    "- join은 모든 스레드가 작업을 마칠 때까자 기다리는 것을 의미합니다. \r\n",
    "- 보통 데이터를 여러 스레드를 통해서 병렬로 처리한 후 그 값들을 다시 모아서 순차적으로 처리해야할 필요가 있을 때 \r\n",
    "분할한 데이터가 모든 스레드에서 처리될 때까지 기다렸다가 메인 스레드가 다시 추후 작업을 하는 경우에 사용합니다."
   ],
   "metadata": {}
  },
  {
   "cell_type": "code",
   "execution_count": 4,
   "source": [
    "import threading\r\n",
    "import time\r\n",
    "\r\n",
    "\r\n",
    "class Worker(threading.Thread):\r\n",
    "    def __init__(self, name):\r\n",
    "        super().__init__()\r\n",
    "        self.name = name            # thread 이름 지정\r\n",
    "\r\n",
    "    def run(self):\r\n",
    "        print(\"sub thread start \", threading.currentThread().getName())\r\n",
    "        time.sleep(5)\r\n",
    "        print(\"sub thread end \", threading.currentThread().getName())\r\n",
    "\r\n",
    "\r\n",
    "print(\"main thread start\")\r\n",
    "\r\n",
    "t1 = Worker(\"1\")        # sub thread 생성\r\n",
    "t1.start()              # sub thread의 run 메서드를 호출\r\n",
    "\r\n",
    "t2 = Worker(\"2\")        # sub thread 생성\r\n",
    "t2.start()              # sub thread의 run 메서드를 호출\r\n",
    "\r\n",
    "t1.join()\r\n",
    "t2.join()\r\n",
    "\r\n",
    "print(\"main thread post job\")\r\n",
    "print(\"main thread end\")"
   ],
   "outputs": [
    {
     "output_type": "stream",
     "name": "stdout",
     "text": [
      "main thread start\n",
      "sub thread start  1\n",
      "sub thread start  2\n",
      "sub thread end sub thread end  1\n",
      " 2\n",
      "main thread post job\n",
      "main thread end\n"
     ]
    }
   ],
   "metadata": {}
  },
  {
   "cell_type": "markdown",
   "source": [
    "- 결과를 보면 t1, t2 스레드가 종료된 후 'main thread post job'이 출력된 것을 확인할 수 있습니다. \r\n",
    "- 참고로 앞의 예에서는 메인스레드가 모든 실행을 완료한 후 서브스레드가 종료될 때까지 기다렸지만 이 예제에서는 join( ) 메서드가 호출되는 지점에서 기다린다는 차이가 있습니다."
   ],
   "metadata": {}
  },
  {
   "cell_type": "markdown",
   "source": [
    "반복문을 통해 여러 서브 스레드를 생성해야하는 경우에는 생성된 스레드 객체를 파이썬 리스트에 저장한 후 반복문을 이용해서 각 객체에서 join( ) 메서드를 호출할 수 있습니다."
   ],
   "metadata": {}
  },
  {
   "cell_type": "code",
   "execution_count": 5,
   "source": [
    "import threading\r\n",
    "import time\r\n",
    "\r\n",
    "\r\n",
    "class Worker(threading.Thread):\r\n",
    "    def __init__(self, name):\r\n",
    "        super().__init__()\r\n",
    "        self.name = name            # thread 이름 지정\r\n",
    "\r\n",
    "    def run(self):\r\n",
    "        print(\"sub thread start \", threading.currentThread().getName())\r\n",
    "        time.sleep(5)\r\n",
    "        print(\"sub thread end \", threading.currentThread().getName())\r\n",
    "\r\n",
    "\r\n",
    "print(\"main thread start\")\r\n",
    "\r\n",
    "threads = []\r\n",
    "for i in range(3):\r\n",
    "    thread = Worker(i)\r\n",
    "    thread.start()              # sub thread의 run 메서드를 호출\r\n",
    "    threads.append(thread)\r\n",
    "\r\n",
    "\r\n",
    "for thread in threads:\r\n",
    "    thread.join()\r\n",
    "\r\n",
    "print(\"main thread post job\")\r\n",
    "print(\"main thread end\")"
   ],
   "outputs": [
    {
     "output_type": "stream",
     "name": "stdout",
     "text": [
      "main thread start\n",
      "sub thread start  0\n",
      "sub thread start  1\n",
      "sub thread start  2\n",
      "sub thread end sub thread end  0\n",
      " 1\n",
      "sub thread end  2\n",
      "main thread post job\n",
      "main thread end\n"
     ]
    }
   ],
   "metadata": {}
  },
  {
   "cell_type": "markdown",
   "source": [],
   "metadata": {}
  }
 ],
 "metadata": {
  "orig_nbformat": 4,
  "language_info": {
   "name": "python",
   "version": "3.8.5",
   "mimetype": "text/x-python",
   "codemirror_mode": {
    "name": "ipython",
    "version": 3
   },
   "pygments_lexer": "ipython3",
   "nbconvert_exporter": "python",
   "file_extension": ".py"
  },
  "kernelspec": {
   "name": "python3",
   "display_name": "Python 3.8.5 64-bit ('quant': conda)"
  },
  "interpreter": {
   "hash": "a887fb40a00db2b27724eb353e8332a4f798b02a3e22adbc742cdcf6ae22175c"
  }
 },
 "nbformat": 4,
 "nbformat_minor": 2
}