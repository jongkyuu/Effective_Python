{
 "cells": [
  {
   "cell_type": "code",
   "execution_count": 1,
   "source": [
    "import json\r\n",
    "\r\n",
    "class ToDictMixin:\r\n",
    "    def to_dict(self):\r\n",
    "        return self._traverse_dict(self.__dict__)\r\n",
    "\r\n",
    "    def _traverse_dict(self, instance_dict):\r\n",
    "        output = {}\r\n",
    "        for key, value in instance_dict.items():\r\n",
    "            output[key] = self._traverse(key, value)\r\n",
    "        return output\r\n",
    "\r\n",
    "    def _traverse(self, key, value):\r\n",
    "        if isinstance(value, ToDictMixin):\r\n",
    "            return value.to_dict()\r\n",
    "        elif isinstance(value, dict):\r\n",
    "            return self._traverse_dict(value)\r\n",
    "        elif isinstance(value, list):\r\n",
    "            return [self._traverse(key, i) for i in value]\r\n",
    "        elif hasattr(value, '__dict__'):\r\n",
    "            return self._traverse_dict(value.__dict__)\r\n",
    "        else:\r\n",
    "            return value\r\n",
    "            \r\n",
    "class JsonMixin:\r\n",
    "    @classmethod\r\n",
    "    def from_json(cls, data):\r\n",
    "        kwargs = json.loads(data)\r\n",
    "        return cls(**kwargs)\r\n",
    "\r\n",
    "    def to_json(self):\r\n",
    "        return json.dumps(self.to_dict())\r\n",
    "\r\n",
    "class DatacenterRack(ToDictMixin, JsonMixin):\r\n",
    "    def __init__(self, switch=None, machines=None):\r\n",
    "        self.switch = Switch(**switch)\r\n",
    "        self.machines = [\r\n",
    "            Machine(**kwargs) for kwargs in machines]\r\n",
    "\r\n",
    "class Switch(ToDictMixin, JsonMixin):\r\n",
    "    def __init__(self, ports=None, speed=None):\r\n",
    "        self.ports = ports\r\n",
    "        self.speed = speed\r\n",
    "\r\n",
    "class Machine(ToDictMixin, JsonMixin):\r\n",
    "    def __init__(self, cores=None, ram=None, disk=None):\r\n",
    "        self.cores = cores\r\n",
    "        self.ram = ram\r\n",
    "        self.disk = disk\r\n",
    "\r\n",
    "serialized = \"\"\"{\r\n",
    "    \"switch\": {\"ports\": 5, \"speed\": 1e9},\r\n",
    "    \"machines\": [\r\n",
    "        {\"cores\": 8, \"ram\": 32e9, \"disk\": 5e12},\r\n",
    "        {\"cores\": 4, \"ram\": 16e9, \"disk\": 1e12},\r\n",
    "        {\"cores\": 2, \"ram\": 4e9, \"disk\": 500e9}\r\n",
    "    ]\r\n",
    "}\"\"\"\r\n"
   ],
   "outputs": [],
   "metadata": {}
  },
  {
   "cell_type": "code",
   "execution_count": null,
   "source": [
    "\r\n",
    "deserialized = DatacenterRack.from_json(serialized)\r\n",
    "roundtrip = deserialized.to_json()\r\n",
    "assert json.loads(serialized) == json.loads(roundtrip)"
   ],
   "outputs": [],
   "metadata": {}
  },
  {
   "cell_type": "code",
   "execution_count": 2,
   "source": [
    "deserialized"
   ],
   "outputs": [
    {
     "output_type": "execute_result",
     "data": {
      "text/plain": [
       "<__main__.DatacenterRack at 0x2bd89973370>"
      ]
     },
     "metadata": {},
     "execution_count": 2
    }
   ],
   "metadata": {}
  },
  {
   "cell_type": "code",
   "execution_count": 4,
   "source": [
    "roundtrip"
   ],
   "outputs": [
    {
     "output_type": "execute_result",
     "data": {
      "text/plain": [
       "'{\"switch\": {\"ports\": 5, \"speed\": 1000000000.0}, \"machines\": [{\"cores\": 8, \"ram\": 32000000000.0, \"disk\": 5000000000000.0}, {\"cores\": 4, \"ram\": 16000000000.0, \"disk\": 1000000000000.0}, {\"cores\": 2, \"ram\": 4000000000.0, \"disk\": 500000000000.0}]}'"
      ]
     },
     "metadata": {},
     "execution_count": 4
    }
   ],
   "metadata": {}
  },
  {
   "cell_type": "code",
   "execution_count": 5,
   "source": [
    "json.loads(roundtrip)"
   ],
   "outputs": [
    {
     "output_type": "execute_result",
     "data": {
      "text/plain": [
       "{'switch': {'ports': 5, 'speed': 1000000000.0},\n",
       " 'machines': [{'cores': 8, 'ram': 32000000000.0, 'disk': 5000000000000.0},\n",
       "  {'cores': 4, 'ram': 16000000000.0, 'disk': 1000000000000.0},\n",
       "  {'cores': 2, 'ram': 4000000000.0, 'disk': 500000000000.0}]}"
      ]
     },
     "metadata": {},
     "execution_count": 5
    }
   ],
   "metadata": {}
  },
  {
   "cell_type": "code",
   "execution_count": 6,
   "source": [
    "json.loads(serialized)"
   ],
   "outputs": [
    {
     "output_type": "execute_result",
     "data": {
      "text/plain": [
       "{'switch': {'ports': 5, 'speed': 1000000000.0},\n",
       " 'machines': [{'cores': 8, 'ram': 32000000000.0, 'disk': 5000000000000.0},\n",
       "  {'cores': 4, 'ram': 16000000000.0, 'disk': 1000000000000.0},\n",
       "  {'cores': 2, 'ram': 4000000000.0, 'disk': 500000000000.0}]}"
      ]
     },
     "metadata": {},
     "execution_count": 6
    }
   ],
   "metadata": {}
  },
  {
   "cell_type": "code",
   "execution_count": null,
   "source": [],
   "outputs": [],
   "metadata": {}
  }
 ],
 "metadata": {
  "orig_nbformat": 4,
  "language_info": {
   "name": "python",
   "version": "3.8.5",
   "mimetype": "text/x-python",
   "codemirror_mode": {
    "name": "ipython",
    "version": 3
   },
   "pygments_lexer": "ipython3",
   "nbconvert_exporter": "python",
   "file_extension": ".py"
  },
  "kernelspec": {
   "name": "python3",
   "display_name": "Python 3.8.5 64-bit ('base': conda)"
  },
  "interpreter": {
   "hash": "3af349140c4914f7302af6f4454fdacb53ad8e2ead0b3aca15e617166f133907"
  }
 },
 "nbformat": 4,
 "nbformat_minor": 2
}