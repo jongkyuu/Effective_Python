{
 "cells": [
  {
   "cell_type": "code",
   "execution_count": 3,
   "source": [
    "import os,time\r\n",
    "#os.environ['TZ'] = 'KST-09' # -는 본초자오선 동쪽을 뜻함\r\n",
    "#time.tzset()\r\n",
    "\r\n",
    "import time\r\n",
    "\r\n",
    "# 유닉스 타임스탬프를 호스트 컴퓨터의 시간대에 맞는 시간으롭 ㅕㄴ환\r\n",
    "now = 1598523184\r\n",
    "local_tuple = time.localtime(now)\r\n",
    "time_format = '%Y-%m-%d %H:%M:%S'\r\n",
    "time_str = time.strftime(time_format, local_tuple)\r\n",
    "print(time_str)"
   ],
   "outputs": [
    {
     "output_type": "stream",
     "name": "stdout",
     "text": [
      "2020-08-27 19:13:04\n"
     ]
    }
   ],
   "metadata": {}
  },
  {
   "cell_type": "code",
   "execution_count": 14,
   "source": [
    "#반대로 변환\r\n",
    "# 지역 시간 표현을 유닉스 타임스탬프로 바꾸고 다시 UTC 시간대에 해당하는 유닉스 타임스탬프로 변환\r\n",
    "time_tuple = time.strptime(time_str, time_format)\r\n",
    "utc_now = time.mktime(time_tuple)\r\n",
    "print(utc_now)"
   ],
   "outputs": [
    {
     "output_type": "stream",
     "name": "stdout",
     "text": [
      "1598523184.0\n"
     ]
    }
   ],
   "metadata": {}
  },
  {
   "cell_type": "code",
   "execution_count": 6,
   "source": [
    "# 윈도우 같은 플랫폼에서는 time이 제공하는 시간대 관련 기능 중 몇 가지를 사용할 수 없음\r\n",
    "\r\n",
    "parse_format = '%Y-%m-%d %H:%M:%S %Z'    # %Z는 시간대를 뜻함\r\n",
    "depart_icn = '2020-08-27 19:13:04 KST'\r\n",
    "time_tuple = time.strptime(depart_icn, parse_format)\r\n",
    "time_str = time.strftime(time_format, time_tuple)\r\n",
    "print(time_str)"
   ],
   "outputs": [
    {
     "output_type": "error",
     "ename": "ValueError",
     "evalue": "unconverted data remains:  KST",
     "traceback": [
      "\u001b[1;31m---------------------------------------------------------------------------\u001b[0m",
      "\u001b[1;31mValueError\u001b[0m                                Traceback (most recent call last)",
      "\u001b[1;32m~\\AppData\\Local\\Temp/ipykernel_23280/1942575438.py\u001b[0m in \u001b[0;36m<module>\u001b[1;34m\u001b[0m\n\u001b[0;32m      3\u001b[0m \u001b[0mparse_format\u001b[0m \u001b[1;33m=\u001b[0m \u001b[1;34m'%Y-%m-%d %H:%M:%S'\u001b[0m    \u001b[1;31m# %Z는 시간대를 뜻함\u001b[0m\u001b[1;33m\u001b[0m\u001b[1;33m\u001b[0m\u001b[0m\n\u001b[0;32m      4\u001b[0m \u001b[0mdepart_icn\u001b[0m \u001b[1;33m=\u001b[0m \u001b[1;34m'2020-08-27 19:13:04 KST'\u001b[0m\u001b[1;33m\u001b[0m\u001b[1;33m\u001b[0m\u001b[0m\n\u001b[1;32m----> 5\u001b[1;33m \u001b[0mtime_tuple\u001b[0m \u001b[1;33m=\u001b[0m \u001b[0mtime\u001b[0m\u001b[1;33m.\u001b[0m\u001b[0mstrptime\u001b[0m\u001b[1;33m(\u001b[0m\u001b[0mdepart_icn\u001b[0m\u001b[1;33m,\u001b[0m \u001b[0mparse_format\u001b[0m\u001b[1;33m)\u001b[0m\u001b[1;33m\u001b[0m\u001b[1;33m\u001b[0m\u001b[0m\n\u001b[0m\u001b[0;32m      6\u001b[0m \u001b[0mtime_str\u001b[0m \u001b[1;33m=\u001b[0m \u001b[0mtime\u001b[0m\u001b[1;33m.\u001b[0m\u001b[0mstrftime\u001b[0m\u001b[1;33m(\u001b[0m\u001b[0mtime_format\u001b[0m\u001b[1;33m,\u001b[0m \u001b[0mtime_tuple\u001b[0m\u001b[1;33m)\u001b[0m\u001b[1;33m\u001b[0m\u001b[1;33m\u001b[0m\u001b[0m\n\u001b[0;32m      7\u001b[0m \u001b[0mprint\u001b[0m\u001b[1;33m(\u001b[0m\u001b[0mtime_str\u001b[0m\u001b[1;33m)\u001b[0m\u001b[1;33m\u001b[0m\u001b[1;33m\u001b[0m\u001b[0m\n",
      "\u001b[1;32m~\\anaconda3\\lib\\_strptime.py\u001b[0m in \u001b[0;36m_strptime_time\u001b[1;34m(data_string, format)\u001b[0m\n\u001b[0;32m    560\u001b[0m     \"\"\"Return a time struct based on the input string and the\n\u001b[0;32m    561\u001b[0m     format string.\"\"\"\n\u001b[1;32m--> 562\u001b[1;33m     \u001b[0mtt\u001b[0m \u001b[1;33m=\u001b[0m \u001b[0m_strptime\u001b[0m\u001b[1;33m(\u001b[0m\u001b[0mdata_string\u001b[0m\u001b[1;33m,\u001b[0m \u001b[0mformat\u001b[0m\u001b[1;33m)\u001b[0m\u001b[1;33m[\u001b[0m\u001b[1;36m0\u001b[0m\u001b[1;33m]\u001b[0m\u001b[1;33m\u001b[0m\u001b[1;33m\u001b[0m\u001b[0m\n\u001b[0m\u001b[0;32m    563\u001b[0m     \u001b[1;32mreturn\u001b[0m \u001b[0mtime\u001b[0m\u001b[1;33m.\u001b[0m\u001b[0mstruct_time\u001b[0m\u001b[1;33m(\u001b[0m\u001b[0mtt\u001b[0m\u001b[1;33m[\u001b[0m\u001b[1;33m:\u001b[0m\u001b[0mtime\u001b[0m\u001b[1;33m.\u001b[0m\u001b[0m_STRUCT_TM_ITEMS\u001b[0m\u001b[1;33m]\u001b[0m\u001b[1;33m)\u001b[0m\u001b[1;33m\u001b[0m\u001b[1;33m\u001b[0m\u001b[0m\n\u001b[0;32m    564\u001b[0m \u001b[1;33m\u001b[0m\u001b[0m\n",
      "\u001b[1;32m~\\anaconda3\\lib\\_strptime.py\u001b[0m in \u001b[0;36m_strptime\u001b[1;34m(data_string, format)\u001b[0m\n\u001b[0;32m    350\u001b[0m                          (data_string, format))\n\u001b[0;32m    351\u001b[0m     \u001b[1;32mif\u001b[0m \u001b[0mlen\u001b[0m\u001b[1;33m(\u001b[0m\u001b[0mdata_string\u001b[0m\u001b[1;33m)\u001b[0m \u001b[1;33m!=\u001b[0m \u001b[0mfound\u001b[0m\u001b[1;33m.\u001b[0m\u001b[0mend\u001b[0m\u001b[1;33m(\u001b[0m\u001b[1;33m)\u001b[0m\u001b[1;33m:\u001b[0m\u001b[1;33m\u001b[0m\u001b[1;33m\u001b[0m\u001b[0m\n\u001b[1;32m--> 352\u001b[1;33m         raise ValueError(\"unconverted data remains: %s\" %\n\u001b[0m\u001b[0;32m    353\u001b[0m                           data_string[found.end():])\n\u001b[0;32m    354\u001b[0m \u001b[1;33m\u001b[0m\u001b[0m\n",
      "\u001b[1;31mValueError\u001b[0m: unconverted data remains:  KST"
     ]
    }
   ],
   "metadata": {}
  },
  {
   "cell_type": "code",
   "execution_count": 7,
   "source": [
    "parse_format = '%Y-%m-%d %H:%M:%S %Z'    # %Z는 시간대를 뜻함\r\n",
    "arrival_sfo = '2020-08-28 04:13:04 PDT'\r\n",
    "time_tuple = time.strptime(arrival_sfo, time_format)\r\n",
    "time_str = time.strftime(time_format, time_tuple)\r\n",
    "print(time_str)"
   ],
   "outputs": [
    {
     "output_type": "error",
     "ename": "ValueError",
     "evalue": "unconverted data remains:  PDT",
     "traceback": [
      "\u001b[1;31m---------------------------------------------------------------------------\u001b[0m",
      "\u001b[1;31mValueError\u001b[0m                                Traceback (most recent call last)",
      "\u001b[1;32m~\\AppData\\Local\\Temp/ipykernel_23280/373246117.py\u001b[0m in \u001b[0;36m<module>\u001b[1;34m\u001b[0m\n\u001b[0;32m      1\u001b[0m \u001b[0mparse_format\u001b[0m \u001b[1;33m=\u001b[0m \u001b[1;34m'%Y-%m-%d %H:%M:%S %Z'\u001b[0m    \u001b[1;31m# %Z는 시간대를 뜻함\u001b[0m\u001b[1;33m\u001b[0m\u001b[1;33m\u001b[0m\u001b[0m\n\u001b[0;32m      2\u001b[0m \u001b[0marrival_sfo\u001b[0m \u001b[1;33m=\u001b[0m \u001b[1;34m'2020-08-28 04:13:04 PDT'\u001b[0m\u001b[1;33m\u001b[0m\u001b[1;33m\u001b[0m\u001b[0m\n\u001b[1;32m----> 3\u001b[1;33m \u001b[0mtime_tuple\u001b[0m \u001b[1;33m=\u001b[0m \u001b[0mtime\u001b[0m\u001b[1;33m.\u001b[0m\u001b[0mstrptime\u001b[0m\u001b[1;33m(\u001b[0m\u001b[0marrival_sfo\u001b[0m\u001b[1;33m,\u001b[0m \u001b[0mtime_format\u001b[0m\u001b[1;33m)\u001b[0m\u001b[1;33m\u001b[0m\u001b[1;33m\u001b[0m\u001b[0m\n\u001b[0m\u001b[0;32m      4\u001b[0m \u001b[0mtime_str\u001b[0m \u001b[1;33m=\u001b[0m \u001b[0mtime\u001b[0m\u001b[1;33m.\u001b[0m\u001b[0mstrftime\u001b[0m\u001b[1;33m(\u001b[0m\u001b[0mtime_format\u001b[0m\u001b[1;33m,\u001b[0m \u001b[0mtime_tuple\u001b[0m\u001b[1;33m)\u001b[0m\u001b[1;33m\u001b[0m\u001b[1;33m\u001b[0m\u001b[0m\n\u001b[0;32m      5\u001b[0m \u001b[0mprint\u001b[0m\u001b[1;33m(\u001b[0m\u001b[0mtime_str\u001b[0m\u001b[1;33m)\u001b[0m\u001b[1;33m\u001b[0m\u001b[1;33m\u001b[0m\u001b[0m\n",
      "\u001b[1;32m~\\anaconda3\\lib\\_strptime.py\u001b[0m in \u001b[0;36m_strptime_time\u001b[1;34m(data_string, format)\u001b[0m\n\u001b[0;32m    560\u001b[0m     \"\"\"Return a time struct based on the input string and the\n\u001b[0;32m    561\u001b[0m     format string.\"\"\"\n\u001b[1;32m--> 562\u001b[1;33m     \u001b[0mtt\u001b[0m \u001b[1;33m=\u001b[0m \u001b[0m_strptime\u001b[0m\u001b[1;33m(\u001b[0m\u001b[0mdata_string\u001b[0m\u001b[1;33m,\u001b[0m \u001b[0mformat\u001b[0m\u001b[1;33m)\u001b[0m\u001b[1;33m[\u001b[0m\u001b[1;36m0\u001b[0m\u001b[1;33m]\u001b[0m\u001b[1;33m\u001b[0m\u001b[1;33m\u001b[0m\u001b[0m\n\u001b[0m\u001b[0;32m    563\u001b[0m     \u001b[1;32mreturn\u001b[0m \u001b[0mtime\u001b[0m\u001b[1;33m.\u001b[0m\u001b[0mstruct_time\u001b[0m\u001b[1;33m(\u001b[0m\u001b[0mtt\u001b[0m\u001b[1;33m[\u001b[0m\u001b[1;33m:\u001b[0m\u001b[0mtime\u001b[0m\u001b[1;33m.\u001b[0m\u001b[0m_STRUCT_TM_ITEMS\u001b[0m\u001b[1;33m]\u001b[0m\u001b[1;33m)\u001b[0m\u001b[1;33m\u001b[0m\u001b[1;33m\u001b[0m\u001b[0m\n\u001b[0;32m    564\u001b[0m \u001b[1;33m\u001b[0m\u001b[0m\n",
      "\u001b[1;32m~\\anaconda3\\lib\\_strptime.py\u001b[0m in \u001b[0;36m_strptime\u001b[1;34m(data_string, format)\u001b[0m\n\u001b[0;32m    350\u001b[0m                          (data_string, format))\n\u001b[0;32m    351\u001b[0m     \u001b[1;32mif\u001b[0m \u001b[0mlen\u001b[0m\u001b[1;33m(\u001b[0m\u001b[0mdata_string\u001b[0m\u001b[1;33m)\u001b[0m \u001b[1;33m!=\u001b[0m \u001b[0mfound\u001b[0m\u001b[1;33m.\u001b[0m\u001b[0mend\u001b[0m\u001b[1;33m(\u001b[0m\u001b[1;33m)\u001b[0m\u001b[1;33m:\u001b[0m\u001b[1;33m\u001b[0m\u001b[1;33m\u001b[0m\u001b[0m\n\u001b[1;32m--> 352\u001b[1;33m         raise ValueError(\"unconverted data remains: %s\" %\n\u001b[0m\u001b[0;32m    353\u001b[0m                           data_string[found.end():])\n\u001b[0;32m    354\u001b[0m \u001b[1;33m\u001b[0m\u001b[0m\n",
      "\u001b[1;31mValueError\u001b[0m: unconverted data remains:  PDT"
     ]
    }
   ],
   "metadata": {}
  },
  {
   "cell_type": "code",
   "execution_count": 10,
   "source": [
    "time.tzname"
   ],
   "outputs": [
    {
     "output_type": "execute_result",
     "data": {
      "text/plain": [
       "('대한민국 표준시', '대한민국 일광 절약 시간')"
      ]
     },
     "metadata": {},
     "execution_count": 10
    }
   ],
   "metadata": {}
  },
  {
   "cell_type": "markdown",
   "source": [
    "- time 모듈이 플랫폼에 따라 다르게 동작하는게 문제\r\n",
    "- time 모듈의 동작은 호스트 운영체제의 C 함수가 어떻게 동작하는지에 따라 달라진다\r\n",
    "- 따라서 파이썬에서는 time 모듈의 동작을 신뢰할 수 없다\r\n",
    "- 여러 시간대에서 time 모듈의 일관성을 보장할 수 없으므로 여러 시간대 사이의 변환을 다룬다면 datetime 모듈을 사용하라\r\n"
   ],
   "metadata": {}
  },
  {
   "cell_type": "code",
   "execution_count": 16,
   "source": [
    "\r\n",
    "from datetime import datetime, timezone\r\n",
    "\r\n",
    "now = datetime(2020, 8, 27, 10, 13, 4)      # 시간대 설정이 안된 시간을 만듦\r\n",
    "now_utc = now.replace(tzinfo=timezone.utc)   # 시간대를 UTC로 강제 지정\r\n",
    "now_local = now_utc.astimezone()             # UTC 시간을 디폴트 시간대로 변환\r\n",
    "print(now)\r\n",
    "print(now_utc)\r\n",
    "print(now_local)\r\n"
   ],
   "outputs": [
    {
     "output_type": "stream",
     "name": "stdout",
     "text": [
      "2020-08-27 10:13:04\n",
      "2020-08-27 10:13:04+00:00\n",
      "2020-08-27 19:13:04+09:00\n"
     ]
    }
   ],
   "metadata": {}
  },
  {
   "cell_type": "code",
   "execution_count": 19,
   "source": [
    "time_str = '2020-08-27 19:13:04'\r\n",
    "time_format = '%Y-%m-%d %H:%M:%S'\r\n",
    "now = datetime.strptime(time_str, time_format)   # 시간대 설정이 안된 시간으로 문자열을 구문분석\r\n",
    "time_tuple = now.timetuple()                     # 유닉스 시간 구조체로 변환\r\n",
    "utc_now = time.mktime(time_tuple)                # 구조체로부터 유닉스 타임스탬프 생성\r\n",
    "print(now)\r\n",
    "print(time_tuple)\r\n",
    "print(utc_now)\r\n"
   ],
   "outputs": [
    {
     "output_type": "stream",
     "name": "stdout",
     "text": [
      "2020-08-27 19:13:04\n",
      "time.struct_time(tm_year=2020, tm_mon=8, tm_mday=27, tm_hour=19, tm_min=13, tm_sec=4, tm_wday=3, tm_yday=240, tm_isdst=-1)\n",
      "1598523184.0\n"
     ]
    }
   ],
   "metadata": {}
  },
  {
   "cell_type": "code",
   "execution_count": 23,
   "source": [
    "\r\n",
    "import pytz\r\n",
    "\r\n",
    "arrival_sfo = '2020-08-28 04:13:04'  # 샌프란시스코 도착 시간\r\n",
    "sfo_dt_naive = datetime.strptime(arrival_sfo, time_format)   # 시간대가 설정되지 않은 시간\r\n",
    "eastern = pytz.timezone('US/Pacific')                        # 샌프란시스코의 시간대\r\n",
    "sfo_dt = eastern.localize(sfo_dt_naive)                      # 시간대를 샌프란시스코 시간대로 변경\r\n",
    "utc_dt = pytz.utc.normalize(sfo_dt.astimezone(pytz.utc))     # UTC로 변경\r\n",
    "#print(sfo_dt_naive)\r\n",
    "#print(sfo_dt)\r\n",
    "print(utc_dt)\r\n",
    "\r\n",
    "korea = pytz.timezone('Asia/Seoul')\r\n",
    "korea_dt = korea.normalize(utc_dt.astimezone(korea))\r\n",
    "print(korea_dt)\r\n"
   ],
   "outputs": [
    {
     "output_type": "stream",
     "name": "stdout",
     "text": [
      "2020-08-28 11:13:04+00:00\n",
      "2020-08-28 20:13:04+09:00\n"
     ]
    }
   ],
   "metadata": {}
  },
  {
   "cell_type": "code",
   "execution_count": null,
   "source": [],
   "outputs": [],
   "metadata": {}
  }
 ],
 "metadata": {
  "orig_nbformat": 4,
  "language_info": {
   "name": "python",
   "version": "3.8.11",
   "mimetype": "text/x-python",
   "codemirror_mode": {
    "name": "ipython",
    "version": 3
   },
   "pygments_lexer": "ipython3",
   "nbconvert_exporter": "python",
   "file_extension": ".py"
  },
  "kernelspec": {
   "name": "python3",
   "display_name": "Python 3.8.11 64-bit ('base': conda)"
  },
  "interpreter": {
   "hash": "9f1543dab12f68711edff4aaa40dc64b55bdb8a196ed66d96303cc511487faa6"
  }
 },
 "nbformat": 4,
 "nbformat_minor": 2
}