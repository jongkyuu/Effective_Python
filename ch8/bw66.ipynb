{
 "cells": [
  {
   "cell_type": "code",
   "execution_count": 20,
   "source": [
    "import logging\r\n",
    "\r\n",
    "def my_function():\r\n",
    "    logging.debug('디버깅 데이터')\r\n",
    "    logging.error('이 부분은 오류 로그')\r\n",
    "    logging.debug('추가 디버깅 데이터')\r\n",
    "\r\n",
    "from contextlib import contextmanager\r\n",
    "\r\n",
    "@contextmanager\r\n",
    "def debug_logging(level):\r\n",
    "    logger = logging.getLogger()\r\n",
    "    old_level = logger.getEffectiveLevel()\r\n",
    "    logger.setLevel(level)\r\n",
    "    try:\r\n",
    "        yield\r\n",
    "    finally:\r\n",
    "        logger.setLevel(old_level)\r\n",
    "\r\n",
    "logging.basicConfig()\r\n",
    "with debug_logging(logging.DEBUG):\r\n",
    "    print('* 내부:')\r\n",
    "    my_function()\r\n",
    "\r\n",
    "\r\n",
    "print('* 외부:')\r\n",
    "my_function()"
   ],
   "outputs": [
    {
     "output_type": "stream",
     "name": "stderr",
     "text": [
      "DEBUG:root:디버깅 데이터\n",
      "ERROR:root:이 부분은 오류 로그\n",
      "DEBUG:root:추가 디버깅 데이터\n",
      "ERROR:root:이 부분은 오류 로그\n"
     ]
    },
    {
     "output_type": "stream",
     "name": "stdout",
     "text": [
      "* 내부:\n",
      "* 외부:\n"
     ]
    }
   ],
   "metadata": {}
  },
  {
   "cell_type": "code",
   "execution_count": null,
   "source": [
    "\r\n"
   ],
   "outputs": [],
   "metadata": {}
  },
  {
   "cell_type": "code",
   "execution_count": null,
   "source": [],
   "outputs": [],
   "metadata": {}
  }
 ],
 "metadata": {
  "orig_nbformat": 4,
  "language_info": {
   "name": "python",
   "version": "3.8.11",
   "mimetype": "text/x-python",
   "codemirror_mode": {
    "name": "ipython",
    "version": 3
   },
   "pygments_lexer": "ipython3",
   "nbconvert_exporter": "python",
   "file_extension": ".py"
  },
  "kernelspec": {
   "name": "python3",
   "display_name": "Python 3.8.11 64-bit ('base': conda)"
  },
  "interpreter": {
   "hash": "9f1543dab12f68711edff4aaa40dc64b55bdb8a196ed66d96303cc511487faa6"
  }
 },
 "nbformat": 4,
 "nbformat_minor": 2
}