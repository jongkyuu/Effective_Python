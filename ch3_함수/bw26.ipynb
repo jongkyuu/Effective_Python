{
 "cells": [
  {
   "cell_type": "code",
   "execution_count": null,
   "source": [
    "import pickle\r\n",
    "\r\n",
    "\r\n",
    "def trace(func):\r\n",
    "    def wrapper(*args, **kwargs):\r\n",
    "        result = func(*args, **kwargs)\r\n",
    "        print(f'{func.__name__}({args!r}, {kwargs!r}) '\r\n",
    "              f'-> {result!r}')\r\n",
    "        return result\r\n",
    "    return wrapper\r\n",
    "\r\n",
    "@trace\r\n",
    "def fibonacci(n):\r\n",
    "    \"\"\"Return n 번째 피보나치 수\"\"\"\r\n",
    "    if n in (0, 1):\r\n",
    "        return n\r\n",
    "    return (fibonacci(n - 2) + fibonacci(n - 1))\r\n",
    "\r\n",
    "\r\n",
    "fibonacci(4)\r\n",
    "\r\n",
    "print(fibonacci)\r\n",
    "help(fibonacci)\r\n",
    "\r\n",
    "\r\n",
    "# 오류가 나는 부분. 오류를 보고 싶으면 커멘트를 해제할것\r\n",
    "# 데코레이터가 감싸고 있는 원래 함수의 위치를 찾을 수 없기 떄문에 객체 직렬화도 깨진다.\r\n",
    "\r\n",
    "#pickle.dumps(fibonacci)\r\n"
   ],
   "outputs": [],
   "metadata": {}
  },
  {
   "cell_type": "code",
   "execution_count": null,
   "source": [],
   "outputs": [],
   "metadata": {}
  }
 ],
 "metadata": {
  "orig_nbformat": 4,
  "language_info": {
   "name": "python"
  }
 },
 "nbformat": 4,
 "nbformat_minor": 2
}