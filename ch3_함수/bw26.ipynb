{
 "cells": [
  {
   "cell_type": "code",
   "execution_count": 4,
   "source": [
    "import pickle\r\n",
    "\r\n",
    "\r\n",
    "def trace(func):\r\n",
    "    def wrapper(*args, **kwargs):\r\n",
    "        result = func(*args, **kwargs)\r\n",
    "        print(f'{func.__name__}({args!r}, {kwargs!r}) '\r\n",
    "              f'-> {result!r}')\r\n",
    "        return result\r\n",
    "    return wrapper\r\n",
    "\r\n",
    "@trace\r\n",
    "def fibonacci(n):\r\n",
    "    \"\"\"Return n 번째 피보나치 수\"\"\"\r\n",
    "    if n in (0, 1):\r\n",
    "        return n\r\n",
    "    return (fibonacci(n - 2) + fibonacci(n - 1))\r\n",
    "\r\n",
    "fibo = trace(fibonacci)\r\n",
    "\r\n",
    "fibo(4)\r\n",
    "\r\n",
    "#print(fibo)\r\n",
    "#help(fibo)\r\n",
    "\r\n",
    "\r\n",
    "# 오류가 나는 부분. 오류를 보고 싶으면 커멘트를 해제할것\r\n",
    "# 데코레이터가 감싸고 있는 원래 함수의 위치를 찾을 수 없기 떄문에 객체 직렬화도 깨진다.\r\n",
    "\r\n",
    "#pickle.dumps(fibonacci)\r\n"
   ],
   "outputs": [
    {
     "output_type": "stream",
     "name": "stdout",
     "text": [
      "fibonacci((0,), {}) -> 0\n",
      "fibonacci((1,), {}) -> 1\n",
      "fibonacci((2,), {}) -> 1\n",
      "fibonacci((1,), {}) -> 1\n",
      "fibonacci((0,), {}) -> 0\n",
      "fibonacci((1,), {}) -> 1\n",
      "fibonacci((2,), {}) -> 1\n",
      "fibonacci((3,), {}) -> 2\n",
      "fibonacci((4,), {}) -> 3\n",
      "wrapper((4,), {}) -> 3\n"
     ]
    },
    {
     "output_type": "execute_result",
     "data": {
      "text/plain": [
       "3"
      ]
     },
     "metadata": {},
     "execution_count": 4
    }
   ],
   "metadata": {}
  },
  {
   "cell_type": "code",
   "execution_count": 5,
   "source": [
    "print(fibo)"
   ],
   "outputs": [
    {
     "output_type": "stream",
     "name": "stdout",
     "text": [
      "<function trace.<locals>.wrapper at 0x0000014C6C01BCA0>\n"
     ]
    }
   ],
   "metadata": {}
  },
  {
   "cell_type": "code",
   "execution_count": 6,
   "source": [
    "help(fibo)"
   ],
   "outputs": [
    {
     "output_type": "stream",
     "name": "stdout",
     "text": [
      "Help on function wrapper in module __main__:\n",
      "\n",
      "wrapper(*args, **kwargs)\n",
      "\n"
     ]
    }
   ],
   "metadata": {}
  },
  {
   "cell_type": "code",
   "execution_count": 7,
   "source": [
    "help(fibonacci)"
   ],
   "outputs": [
    {
     "output_type": "stream",
     "name": "stdout",
     "text": [
      "Help on function wrapper in module __main__:\n",
      "\n",
      "wrapper(*args, **kwargs)\n",
      "\n"
     ]
    }
   ],
   "metadata": {}
  },
  {
   "cell_type": "code",
   "execution_count": null,
   "source": [],
   "outputs": [],
   "metadata": {}
  }
 ],
 "metadata": {
  "orig_nbformat": 4,
  "language_info": {
   "name": "python",
   "version": "3.8.5",
   "mimetype": "text/x-python",
   "codemirror_mode": {
    "name": "ipython",
    "version": 3
   },
   "pygments_lexer": "ipython3",
   "nbconvert_exporter": "python",
   "file_extension": ".py"
  },
  "kernelspec": {
   "name": "python3",
   "display_name": "Python 3.8.5 64-bit ('quant': conda)"
  },
  "interpreter": {
   "hash": "a887fb40a00db2b27724eb353e8332a4f798b02a3e22adbc742cdcf6ae22175c"
  }
 },
 "nbformat": 4,
 "nbformat_minor": 2
}