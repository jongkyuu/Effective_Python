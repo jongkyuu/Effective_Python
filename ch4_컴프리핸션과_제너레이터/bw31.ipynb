{
 "cells": [
  {
   "cell_type": "markdown",
   "source": [
    "# 인자에 대해 이터레이션 할 때는 방어적이 되라\r\n",
    "- 인자로 이터레이터를 받을 때는 주의해야 합니다. (이미 사용한 이터레이터와 원래 비어있는 이터레이터를 구분 불가)\r\n",
    "- 한번 사용한 이터레이터는 (소진된 상태 이므로) 다시 사용할 수 없습니다.\r\n",
    "- 같은 항목들에 대해서 순회가 필요하면\r\n",
    "  - 필요할 때마다 새로운 이터레이터를 만들거나, \r\n",
    "  - 이터레이터 프로토콜(iterator protocol)을 구현한 새로운 컨테이터 클래스를 만들어 사용할 수 있습니다. (후자를 추천)"
   ],
   "metadata": {}
  },
  {
   "cell_type": "code",
   "execution_count": null,
   "source": [],
   "outputs": [],
   "metadata": {}
  },
  {
   "cell_type": "code",
   "execution_count": null,
   "source": [],
   "outputs": [],
   "metadata": {}
  }
 ],
 "metadata": {
  "orig_nbformat": 4,
  "language_info": {
   "name": "python"
  }
 },
 "nbformat": 4,
 "nbformat_minor": 2
}