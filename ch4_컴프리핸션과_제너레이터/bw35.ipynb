{
 "cells": [
  {
   "cell_type": "markdown",
   "source": [
    "# send로 제너레이터에 데이터를 주입하지 말라m\r\n",
    "\r\n",
    "- 제너레이터에 send를 통해 데이터를 주입하는게 가능하기는 합니다.\r\n",
    "- 하지만 제너레이터는 그렇게 안쓰는 게 좋다고 합니다."
   ],
   "metadata": {}
  },
  {
   "cell_type": "code",
   "execution_count": 4,
   "source": [
    "import math\r\n",
    "\r\n",
    "\r\n",
    "# Example 2 (output 사용처)\r\n",
    "def transmit(output):\r\n",
    "    if output is None:\r\n",
    "        print(f'Output is None')\r\n",
    "    else:\r\n",
    "        print(f'Output: {output:>5.1f}')\r\n",
    "\r\n",
    "\r\n",
    "# Example 5 (제너레이터)\r\n",
    "def wave_modulating(steps):\r\n",
    "    step_size = 2 * math.pi / steps\r\n",
    "    amplitude = yield  # Receive initial amplitude (최초 None 을 send 하면 여기까지 진행)\r\n",
    "    print(' received ', amplitude)  # 두번째 7 send 하면, 위 라인에서 받아서 다음 yield 까지 진행\r\n",
    "    for step in range(steps):\r\n",
    "        radians = step * step_size\r\n",
    "        fraction = math.sin(radians)\r\n",
    "        output = amplitude * fraction\r\n",
    "        print(' prepared output', amplitude, output)\r\n",
    "        amplitude = yield output  # Receive next amplitude\r\n",
    "        print(' received ', amplitude)\r\n",
    "\r\n",
    "\r\n",
    "# Example 6\r\n",
    "def run_modulating(it):\r\n",
    "    # 시작 안된 제너레이터에는 None 만 보낼 수 있음\r\n",
    "    amplitudes = [None, 7, 7, 7, 2, 2, 2, 2, 10, 10, 10, 10, 10]\r\n",
    "    for i, amplitude in enumerate(amplitudes):\r\n",
    "        print(f'\\nbefore send. amplitude[{i}]: {amplitude}')\r\n",
    "        output = it.send(amplitude)\r\n",
    "        print(f'after send. output: {output}')\r\n",
    "        transmit(output)\r\n",
    "\r\n",
    "run_modulating(wave_modulating(12))\r\n"
   ],
   "outputs": [
    {
     "output_type": "stream",
     "name": "stdout",
     "text": [
      "\n",
      "before send. amplitude[0]: None\n",
      "after send. output: None\n",
      "Output is None\n",
      "\n",
      "before send. amplitude[1]: 7\n",
      " received  7\n",
      " prepared output 7 0.0\n",
      "after send. output: 0.0\n",
      "Output:   0.0\n",
      "\n",
      "before send. amplitude[2]: 7\n",
      " received  7\n",
      " prepared output 7 3.4999999999999996\n",
      "after send. output: 3.4999999999999996\n",
      "Output:   3.5\n",
      "\n",
      "before send. amplitude[3]: 7\n",
      " received  7\n",
      " prepared output 7 6.06217782649107\n",
      "after send. output: 6.06217782649107\n",
      "Output:   6.1\n",
      "\n",
      "before send. amplitude[4]: 2\n",
      " received  2\n",
      " prepared output 2 2.0\n",
      "after send. output: 2.0\n",
      "Output:   2.0\n",
      "\n",
      "before send. amplitude[5]: 2\n",
      " received  2\n",
      " prepared output 2 1.7320508075688774\n",
      "after send. output: 1.7320508075688774\n",
      "Output:   1.7\n",
      "\n",
      "before send. amplitude[6]: 2\n",
      " received  2\n",
      " prepared output 2 1.0000000000000007\n",
      "after send. output: 1.0000000000000007\n",
      "Output:   1.0\n",
      "\n",
      "before send. amplitude[7]: 2\n",
      " received  2\n",
      " prepared output 2 2.4492935982947064e-16\n",
      "after send. output: 2.4492935982947064e-16\n",
      "Output:   0.0\n",
      "\n",
      "before send. amplitude[8]: 10\n",
      " received  10\n",
      " prepared output 10 -4.999999999999997\n",
      "after send. output: -4.999999999999997\n",
      "Output:  -5.0\n",
      "\n",
      "before send. amplitude[9]: 10\n",
      " received  10\n",
      " prepared output 10 -8.660254037844386\n",
      "after send. output: -8.660254037844386\n",
      "Output:  -8.7\n",
      "\n",
      "before send. amplitude[10]: 10\n",
      " received  10\n",
      " prepared output 10 -10.0\n",
      "after send. output: -10.0\n",
      "Output: -10.0\n",
      "\n",
      "before send. amplitude[11]: 10\n",
      " received  10\n",
      " prepared output 10 -8.66025403784439\n",
      "after send. output: -8.66025403784439\n",
      "Output:  -8.7\n",
      "\n",
      "before send. amplitude[12]: 10\n",
      " received  10\n",
      " prepared output 10 -5.000000000000004\n",
      "after send. output: -5.000000000000004\n",
      "Output:  -5.0\n"
     ]
    }
   ],
   "metadata": {}
  },
  {
   "cell_type": "code",
   "execution_count": 5,
   "source": [
    "wave_modulating(12)"
   ],
   "outputs": [
    {
     "output_type": "execute_result",
     "data": {
      "text/plain": [
       "<generator object wave_modulating at 0x000001B15713E350>"
      ]
     },
     "metadata": {},
     "execution_count": 5
    }
   ],
   "metadata": {}
  },
  {
   "cell_type": "code",
   "execution_count": null,
   "source": [],
   "outputs": [],
   "metadata": {}
  }
 ],
 "metadata": {
  "orig_nbformat": 4,
  "language_info": {
   "name": "python",
   "version": "3.8.5",
   "mimetype": "text/x-python",
   "codemirror_mode": {
    "name": "ipython",
    "version": 3
   },
   "pygments_lexer": "ipython3",
   "nbconvert_exporter": "python",
   "file_extension": ".py"
  },
  "kernelspec": {
   "name": "python3",
   "display_name": "Python 3.8.5 64-bit ('quant': conda)"
  },
  "interpreter": {
   "hash": "a887fb40a00db2b27724eb353e8332a4f798b02a3e22adbc742cdcf6ae22175c"
  }
 },
 "nbformat": 4,
 "nbformat_minor": 2
}