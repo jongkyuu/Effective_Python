{
 "cells": [
  {
   "cell_type": "markdown",
   "source": [
    "- 제너레이터는 이터레이터를 반환하는 함수인데, 이터레이터가 next 내장 함수를 호출할 때마다 yield 식을 만날 때까지 제너레이터 함수가 진행됩니다.\r\n",
    "- 입력이 아주 커도 메모리 이슈 없이 잘 동작하고, 코드도 깔끔해지니 적극 고려합시다."
   ],
   "metadata": {}
  },
  {
   "cell_type": "code",
   "execution_count": 1,
   "source": [
    "address = 'Four score and seven years ago...'\r\n",
    "\r\n",
    "# 공백을 찾아 다음 index를 반환해주는 함수\r\n",
    "def index_words_iter(text):\r\n",
    "    if text:\r\n",
    "        yield 0\r\n",
    "    for idx, letter in enumerate(text):\r\n",
    "        if letter == ' ':\r\n",
    "            yield idx + 1\r\n",
    "\r\n",
    "\r\n",
    "it = index_words_iter(address)\r\n",
    "print(next(it))\r\n",
    "print(next(it))\r\n",
    "print(list(it))  # 이터레이터에 상태가 있으므로 주의! 재사용 불가.\r\n",
    "\r\n"
   ],
   "outputs": [
    {
     "output_type": "stream",
     "name": "stdout",
     "text": [
      "0\n",
      "5\n",
      "[11, 15, 21, 27]\n"
     ]
    }
   ],
   "metadata": {}
  },
  {
   "cell_type": "code",
   "execution_count": 2,
   "source": [
    "# 리스트로 쉽게 변환 가능\r\n",
    "result_list = list(index_words_iter(address))\r\n",
    "print(result_list)\r\n"
   ],
   "outputs": [
    {
     "output_type": "stream",
     "name": "stdout",
     "text": [
      "[0, 5, 11, 15, 21, 27]\n"
     ]
    }
   ],
   "metadata": {}
  },
  {
   "cell_type": "code",
   "execution_count": 3,
   "source": [
    "# 리스트로 구현한다면\r\n",
    "\r\n",
    "address = 'Four score and seven years ago...'\r\n",
    "\r\n",
    "def index_words(text):\r\n",
    "    result = []\r\n",
    "    if text:\r\n",
    "        result.append(0)\r\n",
    "    for idx, letter in enumerate(text):\r\n",
    "        if letter == ' ':\r\n",
    "            result.append(idx + 1)\r\n",
    "    return result\r\n",
    "\r\n",
    "result_list = index_words(address)\r\n",
    "print(result_list)"
   ],
   "outputs": [
    {
     "output_type": "stream",
     "name": "stdout",
     "text": [
      "[0, 5, 11, 15, 21, 27]\n"
     ]
    }
   ],
   "metadata": {}
  },
  {
   "cell_type": "markdown",
   "source": [
    "### 리스트로 구현하면 \r\n",
    "- 코드에 잡음이 많고 핵심을 알아보기 어렵습니다.\r\n",
    "- 반환하기 전에 리스트에 모든 결과를 다 저장해야 합니다. 입력이 매우 큰 경우에 문제가 될 수 있습니다."
   ],
   "metadata": {}
  },
  {
   "cell_type": "markdown",
   "source": [
    "### 결론 \r\n",
    "\r\n",
    "- 제너레이터를 사용하면 결과를 리스트에 합쳐서 반환하는 것보다 더 깔끔하다.\r\n",
    "- 제너레이터가 반환하는 이터레이터는 제너레이터 함수의 본문에서 yield가 반환하는 값들로 이뤄진 집합을 만들어낸다.\r\n",
    "- 제너레이터를 사용하면 작업 메모리에 모든 입력과 출력을 저장할 필요가 없으므로 입력이 아주 커도 출력 시퀀스를 만들 수 있다."
   ],
   "metadata": {}
  },
  {
   "cell_type": "code",
   "execution_count": null,
   "source": [],
   "outputs": [],
   "metadata": {}
  }
 ],
 "metadata": {
  "orig_nbformat": 4,
  "language_info": {
   "name": "python",
   "version": "3.8.5",
   "mimetype": "text/x-python",
   "codemirror_mode": {
    "name": "ipython",
    "version": 3
   },
   "pygments_lexer": "ipython3",
   "nbconvert_exporter": "python",
   "file_extension": ".py"
  },
  "kernelspec": {
   "name": "python3",
   "display_name": "Python 3.8.5 64-bit ('quant': conda)"
  },
  "interpreter": {
   "hash": "a887fb40a00db2b27724eb353e8332a4f798b02a3e22adbc742cdcf6ae22175c"
  }
 },
 "nbformat": 4,
 "nbformat_minor": 2
}