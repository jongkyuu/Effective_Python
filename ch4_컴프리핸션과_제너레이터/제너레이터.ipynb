{
 "cells": [
  {
   "cell_type": "markdown",
   "source": [
    "# 제너레이터(generator)\r\n",
    "\r\n",
    "## 제너레이터 사용하기\r\n",
    "\r\n",
    "- 제너레이터는 이터레이터를 생성해주는 함수입니다. \r\n",
    "- 이터레이터는 클래스에 __iter__, __next__ 또는 __getitem__ 메서드를 구현해야 하지만 제너레이터는 함수 안에서 yield라는 키워드만 사용하면 끝입니다. \r\n",
    "- 그래서 제너레이터는 이터레이터보다 훨씬 간단하게 작성할 수 있습니다."
   ],
   "metadata": {}
  },
  {
   "cell_type": "code",
   "execution_count": 8,
   "source": [
    "# 함수 안에서 yield를 사용하면 함수는 제너레이터가 되며 yield에는 값(변수)을 지정합니다.\r\n",
    "\r\n",
    "def num_generator():\r\n",
    "    yield 0\r\n",
    "    yield 1\r\n",
    "    yield 2\r\n",
    "\r\n",
    "for i in num_generator():\r\n",
    "    print(i, end=' ')"
   ],
   "outputs": [
    {
     "output_type": "stream",
     "name": "stdout",
     "text": [
      "0 1 2 "
     ]
    }
   ],
   "metadata": {}
  },
  {
   "cell_type": "markdown",
   "source": [
    "### 제너레이터 객체가 이터레이터인지 확인하기\r\n",
    "- number_generator 함수로 만든 객체가 정말 이터레이터인지 살펴보겠습니다. \r\n",
    "- 다음과 같이 dir 함수로 메서드 목록을 확인해봅니다."
   ],
   "metadata": {}
  },
  {
   "cell_type": "code",
   "execution_count": 11,
   "source": [
    "g = num_generator()\r\n",
    "print(g)\r\n",
    "print(dir(g))"
   ],
   "outputs": [
    {
     "output_type": "stream",
     "name": "stdout",
     "text": [
      "<generator object num_generator at 0x0000020FF7AFBC10>\n",
      "['__class__', '__del__', '__delattr__', '__dir__', '__doc__', '__eq__', '__format__', '__ge__', '__getattribute__', '__gt__', '__hash__', '__init__', '__init_subclass__', '__iter__', '__le__', '__lt__', '__name__', '__ne__', '__new__', '__next__', '__qualname__', '__reduce__', '__reduce_ex__', '__repr__', '__setattr__', '__sizeof__', '__str__', '__subclasshook__', 'close', 'gi_code', 'gi_frame', 'gi_running', 'gi_yieldfrom', 'send', 'throw']\n"
     ]
    }
   ],
   "metadata": {}
  },
  {
   "cell_type": "markdown",
   "source": [
    "- number_generator 함수를 호출하면 제너레이터 객체(generator object)가 반환됩니다. \r\n",
    "- 이 객체를 dir 함수로 살펴보면 이터레이터에서 볼 수 있는 `__iter__`, `__next__` 메서드가 들어있습니다.\r\n",
    "- 실제로 제너레이터 객체의 `__next__` 를 호출해보면 숫자 0, 1, 2가 나오다가 StopIteration 예외가 발생합니다."
   ],
   "metadata": {}
  },
  {
   "cell_type": "code",
   "execution_count": 12,
   "source": [
    "print(g.__next__())\r\n",
    "print(g.__next__())\r\n",
    "print(g.__next__())\r\n",
    "print(g.__next__())"
   ],
   "outputs": [
    {
     "output_type": "stream",
     "name": "stdout",
     "text": [
      "0\n",
      "1\n",
      "2\n"
     ]
    },
    {
     "output_type": "error",
     "ename": "StopIteration",
     "evalue": "",
     "traceback": [
      "\u001b[1;31m---------------------------------------------------------------------------\u001b[0m",
      "\u001b[1;31mStopIteration\u001b[0m                             Traceback (most recent call last)",
      "\u001b[1;32m<ipython-input-12-086525629810>\u001b[0m in \u001b[0;36m<module>\u001b[1;34m\u001b[0m\n\u001b[0;32m      2\u001b[0m \u001b[0mprint\u001b[0m\u001b[1;33m(\u001b[0m\u001b[0mg\u001b[0m\u001b[1;33m.\u001b[0m\u001b[0m__next__\u001b[0m\u001b[1;33m(\u001b[0m\u001b[1;33m)\u001b[0m\u001b[1;33m)\u001b[0m\u001b[1;33m\u001b[0m\u001b[1;33m\u001b[0m\u001b[0m\n\u001b[0;32m      3\u001b[0m \u001b[0mprint\u001b[0m\u001b[1;33m(\u001b[0m\u001b[0mg\u001b[0m\u001b[1;33m.\u001b[0m\u001b[0m__next__\u001b[0m\u001b[1;33m(\u001b[0m\u001b[1;33m)\u001b[0m\u001b[1;33m)\u001b[0m\u001b[1;33m\u001b[0m\u001b[1;33m\u001b[0m\u001b[0m\n\u001b[1;32m----> 4\u001b[1;33m \u001b[0mprint\u001b[0m\u001b[1;33m(\u001b[0m\u001b[0mg\u001b[0m\u001b[1;33m.\u001b[0m\u001b[0m__next__\u001b[0m\u001b[1;33m(\u001b[0m\u001b[1;33m)\u001b[0m\u001b[1;33m)\u001b[0m\u001b[1;33m\u001b[0m\u001b[1;33m\u001b[0m\u001b[0m\n\u001b[0m",
      "\u001b[1;31mStopIteration\u001b[0m: "
     ]
    }
   ],
   "metadata": {}
  },
  {
   "cell_type": "markdown",
   "source": [
    "- 함수에 yield만 사용해서 간단하게 이터레이터를 구현할 수 있습니다. \r\n",
    "- 단, 이터레이터는 `__next__` 메서드 안에서 직접 return으로 값을 반환했지만 제너레이터는 yield에 지정한 값이 `__next__` 메서드(next 함수)의 반환값으로 나옵니다. \r\n",
    "- 또한, 이터레이터는 raise로 StopIteration 예외를 직접 발생시켰지만 제너레이터는 함수의 끝까지 도달하면 StopIteration 예외가 자동으로 발생합니다.\r\n",
    "- 제너레이터는 제너레이터 객체에서 `__next__` 메서드를 호출할 때마다 함수 안의 yield까지 코드를 실행하며 yield에서 값을 발생시킵니다(generate). 그래서 이름이 제너레이터(generator)입니다."
   ],
   "metadata": {}
  },
  {
   "cell_type": "code",
   "execution_count": 15,
   "source": [
    "def number_generator():\r\n",
    "    yield 0    # 0을 함수 바깥으로 전달하면서 코드 실행을 함수 바깥에 양보\r\n",
    "    yield 1    # 1을 함수 바깥으로 전달하면서 코드 실행을 함수 바깥에 양보\r\n",
    "    yield 2    # 2를 함수 바깥으로 전달하면서 코드 실행을 함수 바깥에 양보\r\n",
    " \r\n",
    "g = number_generator()\r\n",
    " \r\n",
    "a = next(g)    # yield를 사용하여 함수 바깥으로 전달한 값은 next의 반환값으로 나옴\r\n",
    "print(a)       # 0\r\n",
    " \r\n",
    "b = next(g)\r\n",
    "print(b)       # 1\r\n",
    " \r\n",
    "c = next(g)\r\n",
    "print(c)       # 2"
   ],
   "outputs": [
    {
     "output_type": "stream",
     "name": "stdout",
     "text": [
      "0\n",
      "1\n",
      "2\n"
     ]
    }
   ],
   "metadata": {}
  },
  {
   "cell_type": "markdown",
   "source": [
    "- 제너레이터는 함수를 끝내지 않은 상태에서 yield를 사용하여 값을 바깥으로 전달할 수 있습니다. \r\n",
    "- 즉, return은 반환 즉시 함수가 끝나지만 yield는 잠시 함수 바깥의 코드가 실행되도록 양보하여 값을 가져가게 한 뒤 다시 제너레이터 안의 코드를 계속 실행하는 방식입니다. "
   ],
   "metadata": {}
  },
  {
   "cell_type": "markdown",
   "source": [
    "- 제너레이터는 함수 끝까지 도달하면 StopIteration 예외가 발생합니다. \r\n",
    "- 마찬가지로 return도 함수를 끝내므로 return을 사용해서 함수 중간에 빠져나오면 StopIteration 예외가 발생합니다.\r\n",
    "- 특히 제너레이터 안에서 return에 반환값을 지정하면 StopIteration 예외의 에러 메시지로 들어갑니다.\r\n"
   ],
   "metadata": {}
  },
  {
   "cell_type": "code",
   "execution_count": 19,
   "source": [
    "def one_generator():\r\n",
    "    yield 1\r\n",
    "    return 'return에 지정한 값'"
   ],
   "outputs": [],
   "metadata": {}
  },
  {
   "cell_type": "code",
   "execution_count": 22,
   "source": [
    "g = one_generator()\r\n",
    "print(g)\r\n",
    "print(next(g))\r\n",
    "print(next(g))"
   ],
   "outputs": [
    {
     "output_type": "stream",
     "name": "stdout",
     "text": [
      "<generator object one_generator at 0x0000020FF6511D60>\n",
      "1\n"
     ]
    },
    {
     "output_type": "error",
     "ename": "StopIteration",
     "evalue": "return에 지정한 값",
     "traceback": [
      "\u001b[1;31m---------------------------------------------------------------------------\u001b[0m",
      "\u001b[1;31mStopIteration\u001b[0m                             Traceback (most recent call last)",
      "\u001b[1;32m<ipython-input-22-49fd9443d47a>\u001b[0m in \u001b[0;36m<module>\u001b[1;34m\u001b[0m\n\u001b[0;32m      2\u001b[0m \u001b[0mprint\u001b[0m\u001b[1;33m(\u001b[0m\u001b[0mg\u001b[0m\u001b[1;33m)\u001b[0m\u001b[1;33m\u001b[0m\u001b[1;33m\u001b[0m\u001b[0m\n\u001b[0;32m      3\u001b[0m \u001b[0mprint\u001b[0m\u001b[1;33m(\u001b[0m\u001b[0mnext\u001b[0m\u001b[1;33m(\u001b[0m\u001b[0mg\u001b[0m\u001b[1;33m)\u001b[0m\u001b[1;33m)\u001b[0m\u001b[1;33m\u001b[0m\u001b[1;33m\u001b[0m\u001b[0m\n\u001b[1;32m----> 4\u001b[1;33m \u001b[0mprint\u001b[0m\u001b[1;33m(\u001b[0m\u001b[0mnext\u001b[0m\u001b[1;33m(\u001b[0m\u001b[0mg\u001b[0m\u001b[1;33m)\u001b[0m\u001b[1;33m)\u001b[0m\u001b[1;33m\u001b[0m\u001b[1;33m\u001b[0m\u001b[0m\n\u001b[0m",
      "\u001b[1;31mStopIteration\u001b[0m: return에 지정한 값"
     ]
    }
   ],
   "metadata": {}
  },
  {
   "cell_type": "markdown",
   "source": [
    "## 제너레이터 만들기\r\n",
    "- range(횟수)처럼 동작을 하는 제너레이터를 만들어보겠습니다."
   ],
   "metadata": {}
  },
  {
   "cell_type": "code",
   "execution_count": 23,
   "source": [
    "def number_generator(stop):\r\n",
    "    n = 0\r\n",
    "    while n < stop:\r\n",
    "        yield n\r\n",
    "        n += 1"
   ],
   "outputs": [],
   "metadata": {}
  },
  {
   "cell_type": "code",
   "execution_count": 24,
   "source": [
    "for i in number_generator(3):\r\n",
    "    print(i)"
   ],
   "outputs": [
    {
     "output_type": "stream",
     "name": "stdout",
     "text": [
      "0\n",
      "1\n",
      "2\n"
     ]
    }
   ],
   "metadata": {}
  },
  {
   "cell_type": "code",
   "execution_count": 25,
   "source": [
    "g = number_generator(3)\r\n",
    "print(next(g))\r\n",
    "print(next(g))\r\n",
    "print(next(g))\r\n",
    "print(next(g))"
   ],
   "outputs": [
    {
     "output_type": "stream",
     "name": "stdout",
     "text": [
      "0\n",
      "1\n",
      "2\n"
     ]
    },
    {
     "output_type": "error",
     "ename": "StopIteration",
     "evalue": "",
     "traceback": [
      "\u001b[1;31m---------------------------------------------------------------------------\u001b[0m",
      "\u001b[1;31mStopIteration\u001b[0m                             Traceback (most recent call last)",
      "\u001b[1;32m<ipython-input-25-bd213b6d0c89>\u001b[0m in \u001b[0;36m<module>\u001b[1;34m\u001b[0m\n\u001b[0;32m      3\u001b[0m \u001b[0mprint\u001b[0m\u001b[1;33m(\u001b[0m\u001b[0mnext\u001b[0m\u001b[1;33m(\u001b[0m\u001b[0mg\u001b[0m\u001b[1;33m)\u001b[0m\u001b[1;33m)\u001b[0m\u001b[1;33m\u001b[0m\u001b[1;33m\u001b[0m\u001b[0m\n\u001b[0;32m      4\u001b[0m \u001b[0mprint\u001b[0m\u001b[1;33m(\u001b[0m\u001b[0mnext\u001b[0m\u001b[1;33m(\u001b[0m\u001b[0mg\u001b[0m\u001b[1;33m)\u001b[0m\u001b[1;33m)\u001b[0m\u001b[1;33m\u001b[0m\u001b[1;33m\u001b[0m\u001b[0m\n\u001b[1;32m----> 5\u001b[1;33m \u001b[0mprint\u001b[0m\u001b[1;33m(\u001b[0m\u001b[0mnext\u001b[0m\u001b[1;33m(\u001b[0m\u001b[0mg\u001b[0m\u001b[1;33m)\u001b[0m\u001b[1;33m)\u001b[0m\u001b[1;33m\u001b[0m\u001b[1;33m\u001b[0m\u001b[0m\n\u001b[0m",
      "\u001b[1;31mStopIteration\u001b[0m: "
     ]
    }
   ],
   "metadata": {}
  },
  {
   "cell_type": "markdown",
   "source": [
    "### yield 에서 함수 호출하기\r\n"
   ],
   "metadata": {}
  },
  {
   "cell_type": "code",
   "execution_count": 26,
   "source": [
    "def upper_generator(arr):\r\n",
    "    for i in arr:\r\n",
    "        yield i.upper()"
   ],
   "outputs": [],
   "metadata": {}
  },
  {
   "cell_type": "code",
   "execution_count": 30,
   "source": [
    "fruits = ['apple', 'pear', 'orange']\r\n",
    "for i in upper_generator(fruits):\r\n",
    "    print(i)"
   ],
   "outputs": [
    {
     "output_type": "stream",
     "name": "stdout",
     "text": [
      "APPLE\n",
      "PEAR\n",
      "ORANGE\n"
     ]
    }
   ],
   "metadata": {}
  },
  {
   "cell_type": "markdown",
   "source": [
    "- yield i.upper()와 같이 yield에서 함수(메서드)를 호출하면 해당 함수의 반환값을 바깥으로 전달합니다. \r\n",
    "- 즉, yield에 무엇을 지정하든 결과만 바깥으로 전달합니다(함수의 반환값, 식의 결과)."
   ],
   "metadata": {}
  },
  {
   "cell_type": "markdown",
   "source": [
    "## yield from으로 값을 여러 번 바깥으로 전달하기\r\n",
    "- 값을 여러 번 바깥으로 전달할 때 for, while 반복문에서 yield를 사용하지 않고 yield from 을 사용하면 됩니다.\r\n",
    "- yield from에는 반복 가능한 객체, 이터레이터, 제너레이터 객체를 지정합니다(yield from은 파이썬 3.3 이상부터 사용 가능)."
   ],
   "metadata": {}
  },
  {
   "cell_type": "code",
   "execution_count": 31,
   "source": [
    "def number_generator():\r\n",
    "    x = [1, 2, 3]\r\n",
    "    for i in x:\r\n",
    "        yield i\r\n",
    " \r\n",
    "for i in number_generator():\r\n",
    "    print(i)\r\n"
   ],
   "outputs": [
    {
     "output_type": "stream",
     "name": "stdout",
     "text": [
      "1\n",
      "2\n",
      "3\n"
     ]
    }
   ],
   "metadata": {}
  },
  {
   "cell_type": "code",
   "execution_count": 32,
   "source": [
    "def number_generator():\r\n",
    "    x = [1, 2, 3]\r\n",
    "    yield from x    # 리스트에 들어있는 요소를 한 개씩 바깥으로 전달\r\n",
    " \r\n",
    "for i in number_generator():\r\n",
    "    print(i)"
   ],
   "outputs": [
    {
     "output_type": "stream",
     "name": "stdout",
     "text": [
      "1\n",
      "2\n",
      "3\n"
     ]
    }
   ],
   "metadata": {}
  },
  {
   "cell_type": "markdown",
   "source": [
    "- yield from x와 같이 yield from에 리스트(반복 가능한 객체)를 지정했습니다. \r\n",
    "- 이렇게 하면 리스트에 들어있는 요소를 한 개씩 바깥으로 전달합니다."
   ],
   "metadata": {}
  },
  {
   "cell_type": "code",
   "execution_count": 33,
   "source": [
    "def number_generator(stop):\r\n",
    "    n = 0\r\n",
    "    while n < stop:\r\n",
    "        yield n\r\n",
    "        n += 1\r\n",
    " \r\n",
    "def three_generator():\r\n",
    "    yield from number_generator(3)    # 숫자를 세 번 바깥으로 전달\r\n",
    " \r\n",
    "for i in three_generator():\r\n",
    "    print(i)"
   ],
   "outputs": [
    {
     "output_type": "stream",
     "name": "stdout",
     "text": [
      "0\n",
      "1\n",
      "2\n"
     ]
    }
   ],
   "metadata": {}
  },
  {
   "cell_type": "markdown",
   "source": [
    "### 제너레이터 표현식\r\n",
    "- 리스트 표현식을 사용할 때 [ ](대괄호)를 사용했습니다. \r\n",
    "- 같은 리스트 표현식을 ( )(괄호)로 묶으면 제너레이터 표현식이 됩니다. \r\n",
    "- 리스트 표현식은 처음부터 리스트의 요소를 만들어내지만 제너레이터 표현식은 필요할 때 요소를 만들어내므로 메모리를 절약할 수 있습니다."
   ],
   "metadata": {}
  },
  {
   "cell_type": "code",
   "execution_count": 37,
   "source": [
    "[i for i in range(50) if i % 5 == 0]"
   ],
   "outputs": [
    {
     "output_type": "execute_result",
     "data": {
      "text/plain": [
       "[0, 5, 10, 15, 20, 25, 30, 35, 40, 45]"
      ]
     },
     "metadata": {},
     "execution_count": 37
    }
   ],
   "metadata": {}
  },
  {
   "cell_type": "code",
   "execution_count": 47,
   "source": [
    "(i for i in range(50) if i % 5 == 0)"
   ],
   "outputs": [
    {
     "output_type": "execute_result",
     "data": {
      "text/plain": [
       "<generator object <genexpr> at 0x0000020FF7B29A50>"
      ]
     },
     "metadata": {},
     "execution_count": 47
    }
   ],
   "metadata": {}
  },
  {
   "cell_type": "markdown",
   "source": [
    "## 제너레이터 장점\r\n",
    "- 제너레이터는 모든 결과값을 메모리에 저장하지 않기 때문에 더 좋은 퍼포먼스를 냅니다. "
   ],
   "metadata": {}
  },
  {
   "cell_type": "code",
   "execution_count": 13,
   "source": [
    "from __future__ import division\r\n",
    "import os\r\n",
    "import psutil\r\n",
    "import random\r\n",
    "import time\r\n",
    "\r\n",
    "names = ['최용호', '지길정', '진영욱', '김세훈', '오세훈', '김민우']\r\n",
    "majors = ['컴퓨터 공학', '국문학', '영문학', '수학', '정치']\r\n",
    "\r\n",
    "process = psutil.Process(os.getpid())\r\n",
    "mem_before = process.memory_info().rss / 1024 / 1024\r\n",
    "\r\n",
    "def people_list(number):\r\n",
    "    result = []\r\n",
    "    for i in range(number):\r\n",
    "        person = {\r\n",
    "            'id' : i,\r\n",
    "            'name' : random.choice(names),\r\n",
    "            'majog' : random.choice(majors)\r\n",
    "        }\r\n",
    "        result.append(person)\r\n",
    "    return result\r\n",
    "\r\n",
    "t1 = time.time()\r\n",
    "people = people_list(1000000)\r\n",
    "t2 = time.time()\r\n",
    "mem_after = process.memory_info().rss / 1024 / 1024\r\n",
    "total_time = t2 - t1\r\n",
    "\r\n",
    "print ('시작 전 메모리 사용량: {} MB'.format(mem_before))\r\n",
    "print ('종료 후 메모리 사용량: {} MB'.format(mem_after))\r\n",
    "print ('총 소요된 시간: {:.6f} 초'.format(total_time))"
   ],
   "outputs": [
    {
     "output_type": "stream",
     "name": "stdout",
     "text": [
      "시작 전 메모리 사용량: 66.46484375 MB\n",
      "종료 후 메모리 사용량: 333.6015625 MB\n",
      "총 소요된 시간: 1.913434 초\n"
     ]
    }
   ],
   "metadata": {}
  },
  {
   "cell_type": "code",
   "execution_count": 12,
   "source": [
    "from __future__ import division\r\n",
    "import os\r\n",
    "import psutil\r\n",
    "import random\r\n",
    "import time\r\n",
    "\r\n",
    "names = ['최용호', '지길정', '진영욱', '김세훈', '오세훈', '김민우']\r\n",
    "majors = ['컴퓨터 공학', '국문학', '영문학', '수학', '정치']\r\n",
    "\r\n",
    "process = psutil.Process(os.getpid())\r\n",
    "mem_before = process.memory_info().rss / 1024 / 1024\r\n",
    "\r\n",
    "def people_list(number):\r\n",
    "    for i in range(number):\r\n",
    "        person = {\r\n",
    "            'id' : i,\r\n",
    "            'name' : random.choice(names),\r\n",
    "            'majog' : random.choice(majors)\r\n",
    "        }\r\n",
    "        yield person\r\n",
    "t1 = time.time()\r\n",
    "people = people_list(1000000)\r\n",
    "t2 = time.time()\r\n",
    "mem_after = process.memory_info().rss / 1024 / 1024\r\n",
    "total_time = t2 - t1\r\n",
    "\r\n",
    "print ('시작 전 메모리 사용량: {} MB'.format(mem_before))\r\n",
    "print ('종료 후 메모리 사용량: {} MB'.format(mem_after))\r\n",
    "print ('총 소요된 시간: {:.6f} 초'.format(total_time))\r\n"
   ],
   "outputs": [
    {
     "output_type": "stream",
     "name": "stdout",
     "text": [
      "시작 전 메모리 사용량: 336.83203125 MB\n",
      "종료 후 메모리 사용량: 66.9453125 MB\n",
      "총 소요된 시간: 0.082019 초\n"
     ]
    }
   ],
   "metadata": {}
  },
  {
   "cell_type": "markdown",
   "source": [
    "### list를 Print하는 구문 추가했을때 시간과 메모리 비교"
   ],
   "metadata": {}
  },
  {
   "cell_type": "code",
   "execution_count": 6,
   "source": [
    "from __future__ import division\r\n",
    "import os\r\n",
    "import psutil\r\n",
    "import random\r\n",
    "import time\r\n",
    "\r\n",
    "names = ['최용호', '지길정', '진영욱', '김세훈', '오세훈', '김민우']\r\n",
    "majors = ['컴퓨터 공학', '국문학', '영문학', '수학', '정치']\r\n",
    "\r\n",
    "process = psutil.Process(os.getpid())\r\n",
    "mem_before = process.memory_info().rss / 1024 / 1024\r\n",
    "\r\n",
    "def people_list(number):\r\n",
    "    result = []\r\n",
    "    for i in range(number):\r\n",
    "        person = {\r\n",
    "            'id' : i,\r\n",
    "            'name' : random.choice(names),\r\n",
    "            'majog' : random.choice(majors)\r\n",
    "        }\r\n",
    "        result.append(person)\r\n",
    "    return result\r\n",
    "\r\n",
    "t1 = time.time()\r\n",
    "people = people_list(1000000)\r\n",
    "for i, person in enumerate(people):\r\n",
    "    if i % 100000 == 0:\r\n",
    "        print(i, person)\r\n",
    "t2 = time.time()\r\n",
    "mem_after = process.memory_info().rss / 1024 / 1024\r\n",
    "total_time = t2 - t1\r\n",
    "\r\n",
    "print ('시작 전 메모리 사용량: {} MB'.format(mem_before))\r\n",
    "print ('종료 후 메모리 사용량: {} MB'.format(mem_after))\r\n",
    "print ('총 소요된 시간: {:.6f} 초'.format(total_time))"
   ],
   "outputs": [
    {
     "output_type": "stream",
     "name": "stdout",
     "text": [
      "0 {'id': 0, 'name': '지길정', 'majog': '컴퓨터 공학'}\n",
      "100000 {'id': 100000, 'name': '김세훈', 'majog': '국문학'}\n",
      "200000 {'id': 200000, 'name': '진영욱', 'majog': '국문학'}\n",
      "300000 {'id': 300000, 'name': '진영욱', 'majog': '수학'}\n",
      "400000 {'id': 400000, 'name': '오세훈', 'majog': '국문학'}\n",
      "500000 {'id': 500000, 'name': '최용호', 'majog': '국문학'}\n",
      "600000 {'id': 600000, 'name': '지길정', 'majog': '영문학'}\n",
      "700000 {'id': 700000, 'name': '오세훈', 'majog': '컴퓨터 공학'}\n",
      "800000 {'id': 800000, 'name': '오세훈', 'majog': '영문학'}\n",
      "900000 {'id': 900000, 'name': '김세훈', 'majog': '영문학'}\n",
      "시작 전 메모리 사용량: 64.05078125 MB\n",
      "종료 후 메모리 사용량: 333.328125 MB\n",
      "총 소요된 시간: 2.135484 초\n"
     ]
    }
   ],
   "metadata": {}
  },
  {
   "cell_type": "code",
   "execution_count": 7,
   "source": [
    "from __future__ import division\r\n",
    "import os\r\n",
    "import psutil\r\n",
    "import random\r\n",
    "import time\r\n",
    "\r\n",
    "names = ['최용호', '지길정', '진영욱', '김세훈', '오세훈', '김민우']\r\n",
    "majors = ['컴퓨터 공학', '국문학', '영문학', '수학', '정치']\r\n",
    "\r\n",
    "process = psutil.Process(os.getpid())\r\n",
    "mem_before = process.memory_info().rss / 1024 / 1024\r\n",
    "\r\n",
    "def people_list(number):\r\n",
    "    for i in range(number):\r\n",
    "        person = {\r\n",
    "            'id' : i,\r\n",
    "            'name' : random.choice(names),\r\n",
    "            'majog' : random.choice(majors)\r\n",
    "        }\r\n",
    "        yield person\r\n",
    "t1 = time.time()\r\n",
    "people = people_list(1000000)\r\n",
    "for i, person in enumerate(people):\r\n",
    "    if i % 100000 == 0:\r\n",
    "        print(i, person)\r\n",
    "t2 = time.time()\r\n",
    "mem_after = process.memory_info().rss / 1024 / 1024\r\n",
    "total_time = t2 - t1\r\n",
    "\r\n",
    "print ('시작 전 메모리 사용량: {} MB'.format(mem_before))\r\n",
    "print ('종료 후 메모리 사용량: {} MB'.format(mem_after))\r\n",
    "print ('총 소요된 시간: {:.6f} 초'.format(total_time))\r\n"
   ],
   "outputs": [
    {
     "output_type": "stream",
     "name": "stdout",
     "text": [
      "0 {'id': 0, 'name': '김민우', 'majog': '국문학'}\n",
      "100000 {'id': 100000, 'name': '오세훈', 'majog': '컴퓨터 공학'}\n",
      "200000 {'id': 200000, 'name': '진영욱', 'majog': '수학'}\n",
      "300000 {'id': 300000, 'name': '오세훈', 'majog': '수학'}\n",
      "400000 {'id': 400000, 'name': '김세훈', 'majog': '국문학'}\n",
      "500000 {'id': 500000, 'name': '진영욱', 'majog': '정치'}\n",
      "600000 {'id': 600000, 'name': '김세훈', 'majog': '영문학'}\n",
      "700000 {'id': 700000, 'name': '최용호', 'majog': '수학'}\n",
      "800000 {'id': 800000, 'name': '최용호', 'majog': '컴퓨터 공학'}\n",
      "900000 {'id': 900000, 'name': '지길정', 'majog': '국문학'}\n",
      "시작 전 메모리 사용량: 333.41796875 MB\n",
      "종료 후 메모리 사용량: 65.03515625 MB\n",
      "총 소요된 시간: 2.174493 초\n"
     ]
    }
   ],
   "metadata": {}
  },
  {
   "cell_type": "code",
   "execution_count": 51,
   "source": [],
   "outputs": [
    {
     "output_type": "execute_result",
     "data": {
      "text/plain": [
       "47.8828125"
      ]
     },
     "metadata": {},
     "execution_count": 51
    }
   ],
   "metadata": {}
  },
  {
   "cell_type": "code",
   "execution_count": null,
   "source": [],
   "outputs": [],
   "metadata": {}
  }
 ],
 "metadata": {
  "orig_nbformat": 4,
  "language_info": {
   "name": "python",
   "version": "3.8.5",
   "mimetype": "text/x-python",
   "codemirror_mode": {
    "name": "ipython",
    "version": 3
   },
   "pygments_lexer": "ipython3",
   "nbconvert_exporter": "python",
   "file_extension": ".py"
  },
  "kernelspec": {
   "name": "python3",
   "display_name": "Python 3.8.5 64-bit ('quant': conda)"
  },
  "interpreter": {
   "hash": "a887fb40a00db2b27724eb353e8332a4f798b02a3e22adbc742cdcf6ae22175c"
  }
 },
 "nbformat": 4,
 "nbformat_minor": 2
}