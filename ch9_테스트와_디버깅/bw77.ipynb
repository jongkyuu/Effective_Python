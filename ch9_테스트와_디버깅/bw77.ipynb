{
 "cells": [
  {
   "cell_type": "code",
   "execution_count": null,
   "metadata": {},
   "outputs": [],
   "source": []
  },
  {
   "cell_type": "markdown",
   "metadata": {},
   "source": [
    "## bw77\n",
    "\n",
    "- 단위테스트(unit test)와 통합 테스트(integration test)가 필요한 이유는 모듈이 제대로 동작하는지 검증하기 위해서이다."
   ]
  },
  {
   "cell_type": "markdown",
   "metadata": {},
   "source": [
    "- mock\n",
    "  - unittest.mock 모듈\n",
    "  - 단위테스트를 작성하다 보면 데이터베이스 또는 외부 API에 의존하는 코드 테스트를 해야 할 일이 필연적으로 생기기 마련\n",
    "  - 테스트 환경에서는 운영 환경과 대비하여 DB와 연동하거나 외부 API를 호출하기 어려운 경우가 많음\n",
    "  - 외부에 의존하는 부분은 임의의 가짜로 대체하는 기법이 사용되는데 이를 Mocking 이라고 함\n",
    "  - 즉, Mocking은 외부 서비스에 의존하지 않고 독립저긍로 실행이 가능한 unittest를 작성하기 위해 사용되는 테스팅 기법임\n",
    "  - [파이썬 테스트 모킹](https://www.daleseo.com/python-unittest-mock/) 참고"
   ]
  },
  {
   "cell_type": "markdown",
   "metadata": {},
   "source": []
  },
  {
   "cell_type": "markdown",
   "metadata": {},
   "source": []
  },
  {
   "cell_type": "markdown",
   "metadata": {},
   "source": []
  }
 ],
 "metadata": {
  "language_info": {
   "name": "python"
  },
  "orig_nbformat": 4
 },
 "nbformat": 4,
 "nbformat_minor": 2
}
