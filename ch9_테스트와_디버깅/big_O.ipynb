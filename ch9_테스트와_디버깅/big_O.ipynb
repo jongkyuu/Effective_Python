{
 "cells": [
  {
   "cell_type": "markdown",
   "metadata": {},
   "source": [
    "# Big O "
   ]
  },
  {
   "cell_type": "markdown",
   "metadata": {},
   "source": [
    "## 상수시간 복잡도 O(1)\n",
    "\n",
    "```python\n",
    "def printFirst(arr):\n",
    "    print(arr[0])\n",
    "```\n",
    "\n",
    "- 인풋이 아무리 크더라도 동일한 수의 스텝이 필요\n",
    "- 이 함수의 시간복잡도는 상수시간(Constant Time)\n",
    "  \n",
    "![](2021-10-14-11-27-29.png)\n",
    "\n",
    "\n",
    "```python\n",
    "def printFirstAndSecond(arr):\n",
    "    print(arr[0])\n",
    "    print(arr[1])\n",
    "```\n",
    "\n",
    "- 이 함수도 시간복잡도가 O(2)가 아니라 O(1) 이다\n",
    "- 러프하게 이 함수가 인풋 사이즈에 따라 어떻게 작동하는지 표현함(상수는 관계없음)"
   ]
  },
  {
   "cell_type": "markdown",
   "metadata": {},
   "source": [
    "## 선형 시간복잡도 O(n)\n",
    "\n",
    "```python\n",
    "def print_all(arr):\n",
    "    for n in arr:\n",
    "        print(n)\n",
    "```\n",
    "\n",
    "- input 배열이 커질수록 필요한 스텝도 커진다"
   ]
  },
  {
   "cell_type": "markdown",
   "metadata": {},
   "source": []
  }
 ],
 "metadata": {
  "language_info": {
   "name": "python"
  },
  "orig_nbformat": 4
 },
 "nbformat": 4,
 "nbformat_minor": 2
}
