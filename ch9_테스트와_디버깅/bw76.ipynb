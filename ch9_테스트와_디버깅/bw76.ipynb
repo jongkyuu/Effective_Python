{
 "cells": [
  {
   "cell_type": "markdown",
   "metadata": {},
   "source": [
    "## TestCase 하위 클래스를 사용해 프로그램에서 연관된 행동 방식을 검증하라\n",
    "\n",
    "- 파이썬에서 테스트를 작성하는 표준적인 방법은 uniitest 내장모듈을 쓰는 것이다. \n",
    "- 예를들어 utils.py에 다음 코드처럼 유틸리티 함수가 정의돼 있고, 다양한 입력에 대해 제대로 작동하는지 검증하고 싶다고 하자.\n",
    "\n",
    "```python\n",
    "#utils.py\n",
    "def to_str(data):\n",
    "    if isinstance(data, str):\n",
    "        return data\n",
    "    elif isinstance(data, bytes):\n",
    "        return data.decode('utf-8')\n",
    "    else:\n",
    "        raise TypeError('str이나 bytes를 전달해야 합니다, '\n",
    "                        '찾은 값: %r' % data)\n",
    "```\n",
    "\n",
    "- 테스트를 정의하려면 utils_test.py나 test_utils.py라는 이름의 파일을 만들어야 한다.\n",
    "\n",
    "```python\n",
    "# utils_test.py\n",
    "from unittest import TestCase, main\n",
    "from utils import to_str\n",
    "\n",
    "class UtilsTestCase(TestCase):\n",
    "    def test_to_str_bytes(self):\n",
    "        self.assertEqual('hello', to_str(b'hello'))\n",
    "\n",
    "    def test_to_str_str(self):\n",
    "        self.assertEqual('hello', to_str('hello'))\n",
    "\n",
    "    def test_failing(self):\n",
    "        self.assertEqual('incorrect', to_str('hello'))\n",
    "\n",
    "if __name__ == '__main__':\n",
    "    main()\n",
    "\n",
    "# >>>\n",
    "# F..\n",
    "# ======================================================================\n",
    "# FAIL: test_failing (__main__.UtilsTestCase)\n",
    "# ----------------------------------------------------------------------\n",
    "# Traceback (most recent call last):\n",
    "#   File \"utils_test.py\", line 13, in test_failing\n",
    "#     self.assertEqual('incorrect', to_str('hello'))\n",
    "# AssertionError: 'incorrect' != 'hello'\n",
    "# - incorrect\n",
    "# + hello\n",
    "\n",
    "\n",
    "# ----------------------------------------------------------------------\n",
    "# Ran 3 tests in 0.001s\n",
    "\n",
    "# FAILED (failures=1)\n",
    "```\n",
    "\n",
    "- 테스트는 TestCase의 하위 클래스로 구성된다\n",
    "- 각각의 테스트 케이스는 test 라는 단어로 시작하는 메서드들이다\n",
    "- 테스트 중 일부가 실패하더라도 TestCase 하위 클래스는 최초로 문제가 발생한 지점에서 실행을 중단하지 않고 나머지 테스트 메서드를 실행해서 테스트 전반에 대한 그림을 그릴 수 있게 해준다.\n",
    "\n",
    "<br>\n",
    "\n",
    "TestCase 클래스는 테스트에 assertion(단언문)을 만들 때 도움이 되는 여러 도우미 메서드를 제공한다."
   ]
  },
  {
   "cell_type": "markdown",
   "metadata": {},
   "source": []
  },
  {
   "cell_type": "markdown",
   "metadata": {},
   "source": []
  }
 ],
 "metadata": {
  "interpreter": {
   "hash": "9f1543dab12f68711edff4aaa40dc64b55bdb8a196ed66d96303cc511487faa6"
  },
  "kernelspec": {
   "display_name": "Python 3.8.11 64-bit ('base': conda)",
   "name": "python3"
  },
  "language_info": {
   "codemirror_mode": {
    "name": "ipython",
    "version": 3
   },
   "file_extension": ".py",
   "mimetype": "text/x-python",
   "name": "python",
   "nbconvert_exporter": "python",
   "pygments_lexer": "ipython3",
   "version": "3.8.11"
  },
  "orig_nbformat": 4
 },
 "nbformat": 4,
 "nbformat_minor": 2
}
