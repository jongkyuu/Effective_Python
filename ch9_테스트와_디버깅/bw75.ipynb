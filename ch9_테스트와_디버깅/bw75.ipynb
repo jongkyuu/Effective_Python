{
 "cells": [
  {
   "cell_type": "markdown",
   "metadata": {},
   "source": [
    "## BW75. 디버깅 출력에는 repr 문자열을 사용하라\n",
    "\n",
    "- 파이썬 프로그램을 디버깅 할 때 print 함수와 형식화 문자열을 사용하거나 logging 내장모듈을 사용한다\n",
    "- 문제는 어떤 값을 문자열로 바꿔도 이 값을 실제 타입과 구체적인 구성을 명확히 알기 어렵다는 점이다\n",
    "- 디버깅 과정에 print를 사용하면 이런 타입의 차이가 문제가 된다\n",
    "- repr 내장 함수를 객체의 출력 가능한 표현을 반환하는데, 이는 객체를 가장 명확하게 이해할 수 있는 문자열 표현이어야 한다."
   ]
  },
  {
   "cell_type": "code",
   "execution_count": 43,
   "metadata": {},
   "outputs": [
    {
     "name": "stdout",
     "output_type": "stream",
     "text": [
      "foo someting\n",
      "foo someting\n",
      "foo someting\n",
      "foo someting\n",
      "foo someting\n",
      "foo someting\n",
      "foo someting\n",
      "5 == 5 ?\n"
     ]
    }
   ],
   "source": [
    "# print 함수를 사용할 때의 문제\n",
    "print('foo someting')\n",
    "\n",
    "my_value = 'foo someting'\n",
    "print(str(my_value))\n",
    "print('%s' % my_value)\n",
    "print(f'{my_value}')\n",
    "print(format(my_value))\n",
    "print(my_value.__format__('s'))\n",
    "print(my_value.__str__())\n",
    "\n",
    "int_value = 5\n",
    "str_value = '5'\n",
    "print(f'{int_value} == {str_value} ?')\n"
   ]
  },
  {
   "cell_type": "code",
   "execution_count": 27,
   "metadata": {},
   "outputs": [
    {
     "name": "stdout",
     "output_type": "stream",
     "text": [
      "5\n",
      "5\n",
      "5\n",
      "'5'\n"
     ]
    }
   ],
   "source": [
    "# repr 함수를 사용하면 타입이 다른 경우에도 명확한 차이를 볼 수 있다\n",
    "print(5)\n",
    "print('5')\n",
    "\n",
    "print(repr(5))\n",
    "print(repr('5'))"
   ]
  },
  {
   "cell_type": "code",
   "execution_count": 30,
   "metadata": {},
   "outputs": [
    {
     "name": "stdout",
     "output_type": "stream",
     "text": [
      "5\n",
      "'5'\n",
      "5 != 5\n"
     ]
    }
   ],
   "source": [
    "# repr 호출은 %연산자에 %r 형식화 문자열을 사용하거나, f-문자열에 !r 타입 변환을 사용하는것과 같다\n",
    "print('%r' % 5)\n",
    "print('%r' % '5')\n",
    "\n",
    "int_val = 5\n",
    "str_val = '5'\n",
    "print(f'{int_val} != {str_val}')"
   ]
  },
  {
   "cell_type": "markdown",
   "metadata": {},
   "source": [
    "### 직접 클래스의 __repr__ 특별 메서드를 정의해서 인스턴스의 출력 가능한 표현을 원하는대로 만들 수 있고, 디버깅 할 떄 더 자세한 정보를 표시할 수 있다\n"
   ]
  },
  {
   "cell_type": "code",
   "execution_count": 36,
   "metadata": {},
   "outputs": [
    {
     "name": "stdout",
     "output_type": "stream",
     "text": [
      "<__main__.OpaqueClass object at 0x0000013FBC24CF40>\n"
     ]
    }
   ],
   "source": [
    "# object를 상속한 하위 클래스의 repr 기본 구현은 그다지 쓸모가 없다\n",
    "\n",
    "class OpaqueClass:\n",
    "    def __init__(self, x, y):\n",
    "        self.x = x\n",
    "        self.y = y\n",
    "\n",
    "obj = OpaqueClass(1, 'foo')\n",
    "print(obj)\n",
    "\n",
    "# >>>\n",
    "# <__main__.OpaqueClass object at 0x0000013FBC24CAC0>\n",
    "\n",
    "# 이 출력은 eval 함수에 넘길 수 없고, 객체의 인스턴스 필드에 대한 정보도 전혀 없다."
   ]
  },
  {
   "cell_type": "code",
   "execution_count": 41,
   "metadata": {},
   "outputs": [
    {
     "name": "stdout",
     "output_type": "stream",
     "text": [
      "BetterClass(2, 'someting')\n"
     ]
    }
   ],
   "source": [
    "# __repr__ 특별 메서드를 직접 정의\n",
    "\n",
    "class BetterClass:\n",
    "    def __init__(self, x, y):\n",
    "        self.x = x\n",
    "        self.y = y\n",
    "\n",
    "    def __repr__(self):\n",
    "        return f'BetterClass({self.x!r}, {self.y!r})'\n",
    "\n",
    "obj = BetterClass(2, 'someting')\n",
    "print(obj)\n",
    "\n",
    "# >>>\n",
    "# BetterClass(2, '뭐시기')"
   ]
  },
  {
   "cell_type": "code",
   "execution_count": 42,
   "metadata": {},
   "outputs": [
    {
     "name": "stdout",
     "output_type": "stream",
     "text": [
      "{'x': 2, 'y': 'someting'}\n"
     ]
    }
   ],
   "source": [
    "# __dict__ 애트리뷰트를 통해 객체의 인스턴스 딕셔너리에 접근 할 수 있다.\n",
    "\n",
    "print(obj.__dict__)"
   ]
  },
  {
   "cell_type": "code",
   "execution_count": null,
   "metadata": {},
   "outputs": [],
   "source": []
  }
 ],
 "metadata": {
  "interpreter": {
   "hash": "a887fb40a00db2b27724eb353e8332a4f798b02a3e22adbc742cdcf6ae22175c"
  },
  "kernelspec": {
   "display_name": "Python 3.8.5 64-bit ('quant': conda)",
   "name": "python3"
  },
  "language_info": {
   "codemirror_mode": {
    "name": "ipython",
    "version": 3
   },
   "file_extension": ".py",
   "mimetype": "text/x-python",
   "name": "python",
   "nbconvert_exporter": "python",
   "pygments_lexer": "ipython3",
   "version": "3.8.5"
  },
  "orig_nbformat": 4
 },
 "nbformat": 4,
 "nbformat_minor": 2
}
